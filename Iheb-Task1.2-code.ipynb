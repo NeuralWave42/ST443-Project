{
 "cells": [
  {
   "cell_type": "markdown",
   "metadata": {},
   "source": [
    "## Main Imports"
   ]
  },
  {
   "cell_type": "code",
   "execution_count": 26,
   "metadata": {},
   "outputs": [],
   "source": [
    "import os\n",
    "import pandas as pd\n",
    "import datetime\n",
    "import time\n",
    "import json # Export dictionary of tuned parameters.\n",
    "from sklearn.model_selection import train_test_split, TunedThresholdClassifierCV\n",
    "from sklearn.preprocessing import LabelEncoder, StandardScaler\n",
    "from sklearn.decomposition import PCA\n",
    "from sklearn.pipeline import Pipeline\n",
    "from sklearn.model_selection import GridSearchCV # For hyperparameter tuning.\n",
    "from sklearn.metrics import classification_report\n",
    "\n",
    "\n",
    "\n",
    "# Evaluation metrics import\n",
    "from sklearn.metrics import (\n",
    "    accuracy_score, balanced_accuracy_score, f1_score, roc_auc_score, \n",
    "    confusion_matrix\n",
    ")\n",
    "\n",
    "# Models import\n",
    "from sklearn.linear_model import LogisticRegression\n",
    "from sklearn.discriminant_analysis import LinearDiscriminantAnalysis, QuadraticDiscriminantAnalysis\n",
    "from sklearn.neighbors import KNeighborsClassifier\n",
    "from sklearn.ensemble import GradientBoostingClassifier, RandomForestClassifier, AdaBoostClassifier, VotingClassifier\n",
    "\n",
    "from sklearn.svm import SVC\n",
    "from sklearn.tree import DecisionTreeClassifier\n",
    "# Visualisations import\n",
    "import seaborn as sns\n",
    "import matplotlib.pyplot as plt"
   ]
  },
  {
   "cell_type": "code",
   "execution_count": 2,
   "metadata": {},
   "outputs": [],
   "source": [
    "#This is for data, which is most important split.\n",
    "RANDOM_STATE = 42"
   ]
  },
  {
   "cell_type": "markdown",
   "metadata": {},
   "source": [
    "## Functions Setup for the models"
   ]
  },
  {
   "cell_type": "code",
   "execution_count": 3,
   "metadata": {},
   "outputs": [],
   "source": [
    "# Load Data\n",
    "def load_data(file_path):\n",
    "    return pd.read_csv(file_path, compression='gzip')\n",
    "\n",
    "# Train Data\n",
    "def train_data(data, model, label_col, test_size=0.2, random_state=42, standardize=True, with_pca=False, n_pca_components=10):\n",
    "    \"\"\"\n",
    "    Preprocess data and gives back fitted model. Includes different options mainly related to standardization of features and use of PCA.\n",
    "     \n",
    "    Parameters\n",
    "    ----------\n",
    "    model: {sklearn object} Non fitted model object from sklearn. Should be tuned already.\n",
    "        \n",
    "    TO DO\n",
    "    \n",
    "    \n",
    "    Returns\n",
    "    -------\n",
    "    TO DO    \n",
    "        \n",
    "        \n",
    "    \"\"\"\n",
    "    # Split the dataset into features and labels\n",
    "    X = data.drop(columns=[label_col]).values\n",
    "    y = LabelEncoder().fit_transform(data[label_col].values)\n",
    "\n",
    "    # Split into training and test sets\n",
    "    X_train, X_test, y_train, y_test = train_test_split(X, y, test_size=test_size, random_state=random_state)\n",
    "\n",
    "    # Standardize features (fit on training set, transform both train and test if necessary)\n",
    "    if standardize:\n",
    "        scaler = StandardScaler()\n",
    "        X_train = scaler.fit_transform(X_train)\n",
    "        X_test = scaler.transform(X_test)\n",
    "\n",
    "    # Apply PCA (fit on training set, transform both train and test if necessary)\n",
    "    if with_pca:\n",
    "        pca = PCA(n_components=n_pca_components)\n",
    "        X_train = pca.fit_transform(X_train)\n",
    "        X_test = pca.transform(X_test) \n",
    "\n",
    "    # Train the model\n",
    "    print(f\"Training {model.__class__.__name__}...\")\n",
    "    model.fit(X_train, y_train)\n",
    "\n",
    "    return model, X_train, X_test, y_train, y_test\n",
    "\n",
    "\n",
    "# Evaluate Model\n",
    "def evaluate(model, X_test, y_test):\n",
    "    \"\"\"\n",
    "    Takes in any fitted model and gives all the metrics that are asked\n",
    "    Should be used for the results of the hypertuned model.\n",
    "\n",
    "    Parameters\n",
    "    ----------\n",
    "    model: {sklearn object} Fitted model from sklearn. \n",
    "    \n",
    "    X_test: {array like n*p} Features of test set/left out sample.\n",
    "\n",
    "    y_test: {array like n*1} Feature that is being predicted. \n",
    "\n",
    "    \n",
    "    Returns\n",
    "    -------\n",
    "\n",
    "    results_df: {pandas df} Contains all metrics\n",
    "\n",
    "    confusion: Elements to plot confusion matrix.\n",
    "    \n",
    "    \n",
    "    \n",
    "    \"\"\"\n",
    "    \n",
    "    # Make predictions\n",
    "    y_pred = model.predict(X_test)\n",
    "    y_pred_proba = model.predict_proba(X_test)[:, 1] if hasattr(model, \"predict_proba\") else None\n",
    "\n",
    "    # Compute evaluation metrics\n",
    "    accuracy = accuracy_score(y_test, y_pred)\n",
    "    balanced_accuracy = balanced_accuracy_score(y_test, y_pred)\n",
    "    f1 = f1_score(y_test, y_pred)\n",
    "    auc_score = roc_auc_score(y_test, y_pred_proba) if y_pred_proba is not None else None\n",
    "    confusion = confusion_matrix(y_test, y_pred)\n",
    "\n",
    "    # Prepare metrics for DataFrame\n",
    "    results = {\n",
    "        \"Metric\": [\"Accuracy\", \"Balanced Accuracy\", \"F1 Score\", \"AUC\"],\n",
    "        \"Value\": [accuracy, balanced_accuracy, f1, auc_score]\n",
    "    }\n",
    "    results_df = pd.DataFrame(results)\n",
    "    return results_df, confusion\n",
    "\n",
    "def cross_validate(model,X_train,y_train):\n",
    "    \"\"\"\n",
    "    Check how to build the hyperparameter tuning, working below.\n",
    "    Employ cross validation AND Hypertune to maximize F1 score, that way we kill 2 birds in one stone.\n",
    "    \"\"\"\n",
    "\n",
    "    # Should return the optimal attributes for t\n",
    "    pass\n"
   ]
  },
  {
   "cell_type": "markdown",
   "metadata": {},
   "source": [
    "## Visualizations related functions"
   ]
  },
  {
   "cell_type": "code",
   "execution_count": 15,
   "metadata": {
    "collapsed": true,
    "jupyter": {
     "outputs_hidden": true
    }
   },
   "outputs": [],
   "source": [
    "def plot_confusion_matrix(confusion, labels, title=\"Confusion Matrix\"):\n",
    "    plt.figure(figsize=(6, 4))\n",
    "    sns.heatmap(confusion, annot=True, fmt=\"d\", cmap=\"Blues\", xticklabels=labels, yticklabels=labels)\n",
    "    plt.xlabel(\"Predicted Labels\")\n",
    "    plt.ylabel(\"True Labels\")\n",
    "    plt.title(title)\n",
    "    plt.show()"
   ]
  },
  {
   "cell_type": "markdown",
   "metadata": {},
   "source": [
    "## Workflow with a loop (Looping through the classifiers)"
   ]
  },
  {
   "cell_type": "markdown",
   "metadata": {},
   "source": [
    "### Classifiers (with standardize parameter)\n",
    "\n",
    "This dictionary here can be modified. Within each model we add the tuning parameters from the cross validation.\n",
    "But then we don't have to change anything else."
   ]
  },
  {
   "cell_type": "code",
   "execution_count": 16,
   "metadata": {
    "collapsed": true,
    "jupyter": {
     "outputs_hidden": true
    }
   },
   "outputs": [],
   "source": [
    "classifiers = {\n",
    "    \"LDA\": {\n",
    "        \"model\": LinearDiscriminantAnalysis(),\n",
    "        \"standardize\": True\n",
    "    },\n",
    "    \"Logistic Regression\": {\n",
    "        \"model\": LogisticRegression(max_iter=1000),\n",
    "        \"standardize\": True\n",
    "    },\n",
    "    \"QDA\": {\n",
    "        \"model\": QuadraticDiscriminantAnalysis(),\n",
    "        \"standardize\": True\n",
    "    },\n",
    "    \"k-NN\": {\n",
    "        \"model\": KNeighborsClassifier(n_neighbors=5),\n",
    "        \"standardize\": True\n",
    "    },\n",
    "    \"GBDT\": {\n",
    "        \"model\": GradientBoostingClassifier(),\n",
    "        \"standardize\": False\n",
    "    },\n",
    "    \"Random Forest\": {\n",
    "        \"model\": RandomForestClassifier(n_estimators=100, random_state=42),\n",
    "        \"standardize\": False\n",
    "    },\n",
    "    \"SVM\": {\n",
    "        \"model\": SVC(probability=True),\n",
    "        \"standardize\": True\n",
    "    }\n",
    "}"
   ]
  },
  {
   "cell_type": "markdown",
   "metadata": {},
   "source": [
    "### Loading the data from the path"
   ]
  },
  {
   "cell_type": "code",
   "execution_count": 4,
   "metadata": {},
   "outputs": [],
   "source": [
    "file_path = \"Datasets/data1.csv.gz\" \n",
    "label_column = \"label\" \n",
    "\n",
    "# Load the dataset\n",
    "data = load_data(file_path)"
   ]
  },
  {
   "cell_type": "markdown",
   "metadata": {},
   "source": [
    "### Printing all the results"
   ]
  },
  {
   "cell_type": "code",
   "execution_count": 52,
   "metadata": {},
   "outputs": [
    {
     "data": {
      "text/html": [
       "<div>\n",
       "<style scoped>\n",
       "    .dataframe tbody tr th:only-of-type {\n",
       "        vertical-align: middle;\n",
       "    }\n",
       "\n",
       "    .dataframe tbody tr th {\n",
       "        vertical-align: top;\n",
       "    }\n",
       "\n",
       "    .dataframe thead th {\n",
       "        text-align: right;\n",
       "    }\n",
       "</style>\n",
       "<table border=\"1\" class=\"dataframe\">\n",
       "  <thead>\n",
       "    <tr style=\"text-align: right;\">\n",
       "      <th></th>\n",
       "      <th>Model</th>\n",
       "      <th>With PCA</th>\n",
       "      <th>Accuracy</th>\n",
       "      <th>Balanced Accuracy</th>\n",
       "      <th>F1 Score</th>\n",
       "      <th>AUC</th>\n",
       "    </tr>\n",
       "  </thead>\n",
       "  <tbody>\n",
       "    <tr>\n",
       "      <th>0</th>\n",
       "      <td>LDA</td>\n",
       "      <td>False</td>\n",
       "      <td>0.700457</td>\n",
       "      <td>0.700674</td>\n",
       "      <td>0.632287</td>\n",
       "      <td>0.738854</td>\n",
       "    </tr>\n",
       "    <tr>\n",
       "      <th>2</th>\n",
       "      <td>Logistic Regression</td>\n",
       "      <td>False</td>\n",
       "      <td>0.953425</td>\n",
       "      <td>0.950146</td>\n",
       "      <td>0.936646</td>\n",
       "      <td>0.991995</td>\n",
       "    </tr>\n",
       "    <tr>\n",
       "      <th>4</th>\n",
       "      <td>QDA</td>\n",
       "      <td>False</td>\n",
       "      <td>0.528767</td>\n",
       "      <td>0.539963</td>\n",
       "      <td>0.475610</td>\n",
       "      <td>0.539963</td>\n",
       "    </tr>\n",
       "    <tr>\n",
       "      <th>6</th>\n",
       "      <td>k-NN</td>\n",
       "      <td>False</td>\n",
       "      <td>0.729680</td>\n",
       "      <td>0.666834</td>\n",
       "      <td>0.538941</td>\n",
       "      <td>0.714191</td>\n",
       "    </tr>\n",
       "    <tr>\n",
       "      <th>8</th>\n",
       "      <td>GBDT</td>\n",
       "      <td>False</td>\n",
       "      <td>0.948858</td>\n",
       "      <td>0.937660</td>\n",
       "      <td>0.927835</td>\n",
       "      <td>0.989834</td>\n",
       "    </tr>\n",
       "    <tr>\n",
       "      <th>10</th>\n",
       "      <td>Random Forest</td>\n",
       "      <td>False</td>\n",
       "      <td>0.941553</td>\n",
       "      <td>0.923532</td>\n",
       "      <td>0.914894</td>\n",
       "      <td>0.989892</td>\n",
       "    </tr>\n",
       "    <tr>\n",
       "      <th>12</th>\n",
       "      <td>SVM</td>\n",
       "      <td>False</td>\n",
       "      <td>0.964384</td>\n",
       "      <td>0.953582</td>\n",
       "      <td>0.949547</td>\n",
       "      <td>0.992598</td>\n",
       "    </tr>\n",
       "  </tbody>\n",
       "</table>\n",
       "</div>"
      ],
      "text/plain": [
       "                  Model  With PCA  Accuracy  Balanced Accuracy  F1 Score  \\\n",
       "0                   LDA     False  0.700457           0.700674  0.632287   \n",
       "2   Logistic Regression     False  0.953425           0.950146  0.936646   \n",
       "4                   QDA     False  0.528767           0.539963  0.475610   \n",
       "6                  k-NN     False  0.729680           0.666834  0.538941   \n",
       "8                  GBDT     False  0.948858           0.937660  0.927835   \n",
       "10        Random Forest     False  0.941553           0.923532  0.914894   \n",
       "12                  SVM     False  0.964384           0.953582  0.949547   \n",
       "\n",
       "         AUC  \n",
       "0   0.738854  \n",
       "2   0.991995  \n",
       "4   0.539963  \n",
       "6   0.714191  \n",
       "8   0.989834  \n",
       "10  0.989892  \n",
       "12  0.992598  "
      ]
     },
     "execution_count": 52,
     "metadata": {},
     "output_type": "execute_result"
    }
   ],
   "source": [
    "results_df.loc[results_df[\"With PCA\"]==False, :]"
   ]
  },
  {
   "cell_type": "code",
   "execution_count": 53,
   "metadata": {
    "scrolled": true
   },
   "outputs": [
    {
     "data": {
      "text/html": [
       "<div>\n",
       "<style scoped>\n",
       "    .dataframe tbody tr th:only-of-type {\n",
       "        vertical-align: middle;\n",
       "    }\n",
       "\n",
       "    .dataframe tbody tr th {\n",
       "        vertical-align: top;\n",
       "    }\n",
       "\n",
       "    .dataframe thead th {\n",
       "        text-align: right;\n",
       "    }\n",
       "</style>\n",
       "<table border=\"1\" class=\"dataframe\">\n",
       "  <thead>\n",
       "    <tr style=\"text-align: right;\">\n",
       "      <th></th>\n",
       "      <th>Model</th>\n",
       "      <th>With PCA</th>\n",
       "      <th>Accuracy</th>\n",
       "      <th>Balanced Accuracy</th>\n",
       "      <th>F1 Score</th>\n",
       "      <th>AUC</th>\n",
       "    </tr>\n",
       "  </thead>\n",
       "  <tbody>\n",
       "    <tr>\n",
       "      <th>1</th>\n",
       "      <td>LDA</td>\n",
       "      <td>True</td>\n",
       "      <td>0.943379</td>\n",
       "      <td>0.924452</td>\n",
       "      <td>0.917112</td>\n",
       "      <td>0.989838</td>\n",
       "    </tr>\n",
       "    <tr>\n",
       "      <th>3</th>\n",
       "      <td>Logistic Regression</td>\n",
       "      <td>True</td>\n",
       "      <td>0.960731</td>\n",
       "      <td>0.954874</td>\n",
       "      <td>0.945776</td>\n",
       "      <td>0.991586</td>\n",
       "    </tr>\n",
       "    <tr>\n",
       "      <th>5</th>\n",
       "      <td>QDA</td>\n",
       "      <td>True</td>\n",
       "      <td>0.953425</td>\n",
       "      <td>0.945446</td>\n",
       "      <td>0.935197</td>\n",
       "      <td>0.989680</td>\n",
       "    </tr>\n",
       "    <tr>\n",
       "      <th>7</th>\n",
       "      <td>k-NN</td>\n",
       "      <td>True</td>\n",
       "      <td>0.931507</td>\n",
       "      <td>0.914551</td>\n",
       "      <td>0.901186</td>\n",
       "      <td>0.971316</td>\n",
       "    </tr>\n",
       "    <tr>\n",
       "      <th>9</th>\n",
       "      <td>GBDT</td>\n",
       "      <td>True</td>\n",
       "      <td>0.937900</td>\n",
       "      <td>0.926913</td>\n",
       "      <td>0.912821</td>\n",
       "      <td>0.984396</td>\n",
       "    </tr>\n",
       "    <tr>\n",
       "      <th>11</th>\n",
       "      <td>Random Forest</td>\n",
       "      <td>True</td>\n",
       "      <td>0.944292</td>\n",
       "      <td>0.933530</td>\n",
       "      <td>0.921694</td>\n",
       "      <td>0.981991</td>\n",
       "    </tr>\n",
       "    <tr>\n",
       "      <th>13</th>\n",
       "      <td>SVM</td>\n",
       "      <td>True</td>\n",
       "      <td>0.960731</td>\n",
       "      <td>0.952785</td>\n",
       "      <td>0.945223</td>\n",
       "      <td>0.992376</td>\n",
       "    </tr>\n",
       "  </tbody>\n",
       "</table>\n",
       "</div>"
      ],
      "text/plain": [
       "                  Model  With PCA  Accuracy  Balanced Accuracy  F1 Score  \\\n",
       "1                   LDA      True  0.943379           0.924452  0.917112   \n",
       "3   Logistic Regression      True  0.960731           0.954874  0.945776   \n",
       "5                   QDA      True  0.953425           0.945446  0.935197   \n",
       "7                  k-NN      True  0.931507           0.914551  0.901186   \n",
       "9                  GBDT      True  0.937900           0.926913  0.912821   \n",
       "11        Random Forest      True  0.944292           0.933530  0.921694   \n",
       "13                  SVM      True  0.960731           0.952785  0.945223   \n",
       "\n",
       "         AUC  \n",
       "1   0.989838  \n",
       "3   0.991586  \n",
       "5   0.989680  \n",
       "7   0.971316  \n",
       "9   0.984396  \n",
       "11  0.981991  \n",
       "13  0.992376  "
      ]
     },
     "execution_count": 53,
     "metadata": {},
     "output_type": "execute_result"
    }
   ],
   "source": [
    "results_df.loc[results_df[\"With PCA\"]==True, :]"
   ]
  },
  {
   "cell_type": "markdown",
   "metadata": {},
   "source": [
    "# Hyper parameter tuning. \n",
    "Tune the hyper parameters with the goal of improving the <b>F1 score</b>. \n",
    "\n",
    "Tough to completely merge with other part of the code. Ideally we get the results in a dict and then don't have to rerun that code ever again.\n",
    "\n",
    "A search consists of:\n",
    "an estimator (regressor or classifier such as sklearn.svm.SVC()) <b>All our estimators are here, 7*2 for PCA</b>\n",
    "\n",
    "a parameter space <b>This is a bit of guess work</b>\n",
    "\n",
    "a method for searching or sampling candidates <b>Grid search CV</b>\n",
    "\n",
    "a cross-validation scheme; <b>5-fold</b>\n",
    "\n",
    "a score function.<b>F1 score</b>\n",
    "\n"
   ]
  },
  {
   "cell_type": "markdown",
   "metadata": {},
   "source": [
    "## Ideally save grid search results to a json file and then return to dict.\n",
    "\n",
    "- Unpack the dictionary into the model!! ** super easy!\n",
    "- Take care of the fixed params as well! Most of them have default values but logit for example has some fixed params which are not default, these are not saved. \n"
   ]
  },
  {
   "cell_type": "markdown",
   "metadata": {},
   "source": [
    "## Preprocessing before each fit: using a pipeline!\n",
    "\n",
    "https://stackoverflow.com/questions/55692298/preprocessing-on-gridsearchcv\n",
    "\n",
    "https://www.youtube.com/watch?v=tIO8zPCdi58"
   ]
  },
  {
   "cell_type": "markdown",
   "metadata": {},
   "source": [
    "## What happens if a model from the cv takes too long?\n",
    "Break the model or what? Set limit to iter?\n",
    "\n",
    "- Gridsearch is pretty strong so even if inner model raises error it will not terminate, which is nice!"
   ]
  },
  {
   "cell_type": "markdown",
   "metadata": {},
   "source": [
    "## Some paremeters need specific solver:\n",
    "- Solution is to give 2 dictionaries, so GridSearch will search over 2 grids. LDA will give an example.\n",
    "    https://scikit-learn.org/stable/modules/grid_search.html#exhaustive-grid-search"
   ]
  },
  {
   "cell_type": "markdown",
   "metadata": {},
   "source": [
    "## Controlling randomness -> The instructions want reproducibility.\n",
    "https://scikit-learn.org/stable/common_pitfalls.html#controlling-randomness\n",
    "- Recommendation is to set seed for every random estimator!!! Oh jesus.\n",
    "- Most of our estimators are non random (at least in theory).\n",
    "- What is clearly random is our CV in grid search.\n",
    "- Should fix the randomness of our estimators at least for the  "
   ]
  },
  {
   "cell_type": "code",
   "execution_count": 8,
   "metadata": {},
   "outputs": [],
   "source": [
    "def train_split(data,label_col,random_state,test_size=0.2):\n",
    "    \"\"\"\n",
    "    Needs to be like this now as we can't preprocess the train data as we will run cross validation on it, therefore we need to preprocess\n",
    "    on each split.\n",
    "\n",
    "    \"\"\"\n",
    "    X = data.drop(columns=[label_col]).values\n",
    "    y = LabelEncoder().fit_transform(data[label_col].values)\n",
    "    \n",
    "        # Split into training and test sets\n",
    "    X_train, X_test, y_train, y_test = train_test_split(X, y, test_size=test_size, random_state=random_state)\n",
    "    return X_train, y_train, X_test, y_test"
   ]
  },
  {
   "cell_type": "code",
   "execution_count": 13,
   "metadata": {},
   "outputs": [],
   "source": [
    "X_TRAIN_G, y_TRAIN_G, X_TEST_G ,y_TEST_G  = train_split(data,label_col=\"label\",random_state=RANDOM_STATE,test_size=0.2)"
   ]
  },
  {
   "cell_type": "code",
   "execution_count": 16,
   "metadata": {},
   "outputs": [
    {
     "name": "stdout",
     "output_type": "stream",
     "text": [
      "(4376, 4123) (4376,) (1095, 4123) (1095,)\n"
     ]
    }
   ],
   "source": [
    "print(X_TRAIN_G.shape, y_TRAIN_G.shape, X_TEST_G.shape, y_TEST_G.shape)"
   ]
  },
  {
   "cell_type": "code",
   "execution_count": 12,
   "metadata": {},
   "outputs": [
    {
     "data": {
      "text/plain": [
       "(1095, 4123)"
      ]
     },
     "execution_count": 12,
     "metadata": {},
     "output_type": "execute_result"
    }
   ],
   "source": [
    "X_TRAIN_G.shape"
   ]
  },
  {
   "cell_type": "code",
   "execution_count": 74,
   "metadata": {},
   "outputs": [],
   "source": [
    "def pipe_maker(model_name, model,standardize=False,with_pca=False, n_pca_components=10):\n",
    "    \"\"\"\n",
    "    Makes different pipelines according to learning model and standarization/pca requirements\n",
    "\n",
    "    \"\"\"\n",
    "\n",
    "    set_instructions = []\n",
    "    if standardize:\n",
    "        scaler = StandardScaler()\n",
    "        set_instructions.append((\"scaler\",scaler))\n",
    "    \n",
    "    # Apply PCA (fit on training set, transform both train and test if necessary)\n",
    "    if with_pca:\n",
    "        pca = PCA(n_components=n_pca_components)\n",
    "        set_instructions.append((\"pca\",pca))\n",
    "    set_instructions.append((model_name,model))    \n",
    "\n",
    "    pipe = Pipeline(set_instructions)\n",
    "\n",
    "    return pipe"
   ]
  },
  {
   "cell_type": "code",
   "execution_count": 8,
   "metadata": {},
   "outputs": [],
   "source": [
    "# The way the file is defined it will not overwrite, which is good, but should be taken into account.\n",
    "def hyper_param(path=\".json\",params={}):\n",
    "    with open(path, \"w\") as outfile: \n",
    "        json.dump(params, outfile)\n",
    "        outfile.close()\n",
    "        "
   ]
  },
  {
   "cell_type": "markdown",
   "metadata": {},
   "source": [
    "## Tuning params table:\n",
    "\n",
    "- The fixed params and grid search params all follow the \"model_name\"__\"param to modify\" convention, it could be automated\n",
    "but I think it is not needed. TO BE DISCUSSED.\n",
    "- If we have time I would like to run some basic data analysis on the cross fiting results, not just keeping the maximum.\n",
    "- Even if results are same as unparametrized, I am using less data to estimate the model so hopefully when we do the final fit, and check on the test set the results should improve.\n",
    "\n",
    "| Model | PCA | Standardization | Tuning params | Explanation | Preliminary F1       |   TIME |\n",
    "|----------------|--------------|------------|---|----|-----|--------|\n",
    "| Linear discriminant analysis  |  NO     | YES  |solver, shrinkage| Big covariance matrix reguralizing it will make it easier to estimate. <br /> Use the other solver because it supports shrinkage, svd just to compare to baseline we ran |    0.93 <b>Very nice now:)</b> | 15 min\n",
    "|Logistic regression |  NO | YES | C, l_ratio, class_weight| Mostly just use shrinkage, elastic nest nesting lasso and ridge, different regularisation strengths. Most interesting is class weights, have some balance.   |  0.94   | 87 min, no convergence |\n",
    "|QDA|NO|YES|some regularisation that is not working|| garbage|4 min|\n",
    "|K-nn|NO|YES|n_neighbors,metric,p,weights,n_jobs|Number of neigh is self explanatory, for distance minkowski is default but nests euclidenan and manhattan, testing a few distances nested in Minkowski. Weights is for decision rule of voting, closest in neighborhood have more weight or uniform|1000min |0.74 good improvement, room for more.|\n",
    "|SVM|NO|YES|C,kernel,gamma,class_weight|Kernels are the most interesting thing to tune, gamma is hyper param of some kernels, C is the regularisation that was important in some models, class weight I still don't know why I touch that|0.94 similar to unoptimized |129 min| \n",
    "|Random Forest|NO|NO|n_trees,criterion,max_features|Number of trees is key, up to 300, if it doesn't take an eternity I can go to 500. Criterion just because we showed in class. Features because it is interesting to see (log2 harsher). Finally no pruning, would take an eternity and random forest supposedly doesn't need it. Boot and max features should take care of overfitting.|0.91 same as unparametrized.|3 minutes, so room for more tuning then|\n",
    "|Gradient Boosted| NO  | NO |loss, learning_rate, max_depth, max_features, n_iter_no_change, n_estimators | Ok, I do not fully know what I am doing with this one. Learning rate is v from the book I think, it is a regularisation parameter. n estimators is the number of steps M, there is a tradeoff between M and v. Max depth is J from the book I think. Features introduces some random forest component to this algorithm. Finally early stopping to 15 because I am impatient.|0.938 small improvement but ok. |   87min |"
   ]
  },
  {
   "cell_type": "code",
   "execution_count": 166,
   "metadata": {
    "collapsed": true,
    "jupyter": {
     "outputs_hidden": true
    }
   },
   "outputs": [],
   "source": [
    "# empty_dict ={\"key\":{\"hey\":\"2\"}}\n",
    "# if hasattr(empty_dict,\"key\"):\n",
    "#     print(\"yes\")"
   ]
  },
  {
   "cell_type": "code",
   "execution_count": 175,
   "metadata": {
    "collapsed": true,
    "jupyter": {
     "outputs_hidden": true
    }
   },
   "outputs": [],
   "source": [
    "tuning_lda = {\n",
    "    \"lda\": {\n",
    "        # IF PCA TRUE THE NAME SHOULD BE lda_pca\n",
    "        \"model\": LinearDiscriminantAnalysis(),\n",
    "        \"preprocess\": {\n",
    "            \"standardize\":True,\n",
    "            \"pca\":False\n",
    "        },\n",
    "        \"fixed_params\" : {\n",
    "            #No default parameters, but doing so would raise error, add fake one\n",
    "            \"lda__tol\":0.0001\n",
    "            },\n",
    "        # Two grids, one of the solvers does not support shrinkage\n",
    "        \"grid_search_params\":[\n",
    "            {\n",
    "            \"lda__solver\":[\"svd\"]\n",
    "        },\n",
    "            {\n",
    "            \"lda__solver\":[\"lsqr\"],\n",
    "            \"lda__shrinkage\":[0.0, 0.1, 0.2, 0.3, 0.4, 0.5, 0.6, 0.7, 0.8, 0.9, 1.0, \"auto\"]   \n",
    "        }\n",
    "                             ]\n",
    "    \n",
    "    \n",
    "    }\n",
    "\n",
    "}"
   ]
  },
  {
   "cell_type": "code",
   "execution_count": 180,
   "metadata": {
    "collapsed": true,
    "jupyter": {
     "outputs_hidden": true
    }
   },
   "outputs": [
    {
     "data": {
      "text/plain": [
       "[0.0, 0.1, 0.2, 0.3, 0.4, 0.5, 0.6, 0.7, 0.8, 0.9, 1.0]"
      ]
     },
     "execution_count": 180,
     "metadata": {},
     "output_type": "execute_result"
    }
   ],
   "source": [
    "[i/10  for i in range(11)]"
   ]
  },
  {
   "cell_type": "code",
   "execution_count": 188,
   "metadata": {
    "collapsed": true,
    "jupyter": {
     "outputs_hidden": true
    }
   },
   "outputs": [],
   "source": [
    "# MODELS SHOULD BE NAMED model model_pca\n",
    "# Seems like it plateaus at 0.94\n",
    "tuning_logit = {\n",
    "    \"logit\": {\n",
    "        \"model\": LogisticRegression(),\n",
    "        \"preprocess\": {\n",
    "            \"standardize\":True,\n",
    "            \"pca\":False\n",
    "        },\n",
    "        \"fixed_params\" : {\n",
    "            \"logit__max_iter\":100,\n",
    "            \"logit__solver\":\"saga\", # Class weight can be an interesting parameter to check.\n",
    "            \"logit__n_jobs\":-1, # How does paralelizing the logit work??????\n",
    "            \"logit__penalty\":\"elasticnet\", \n",
    "                        }\n",
    "        ,\n",
    "        \"grid_search_params\":{\n",
    "            # Lower C is higher penalty, if optimal is not at bound the approximation is good enough\n",
    "            \"logit__C\":[0.001, 0.101, 0.201, 0.301, 0.401, 0.501, 0.601, 0.701, 0.801, 0.901, 1.001,5,10],\n",
    "            \"logit__l1_ratio\":[0.0, 0.1, 0.2, 0.3, 0.4, 0.5, 0.6, 0.7, 0.8, 0.9, 1.0], # Nests lasso and ridge both edges.\n",
    "            \"logit__class_weight\":[None,\"balanced\"] # Uses inverse probability weighting. I really don't like this\n",
    "            # Class is not that unbalanced but try it.\n",
    "            \n",
    "        }\n",
    "    }\n",
    "    \n",
    "}\n",
    " "
   ]
  },
  {
   "cell_type": "code",
   "execution_count": 192,
   "metadata": {
    "collapsed": true,
    "jupyter": {
     "outputs_hidden": true
    }
   },
   "outputs": [],
   "source": [
    "tuning_qda = {\n",
    "    \"qda\": {\n",
    "        \"model\": QuadraticDiscriminantAnalysis(),\n",
    "        \"preprocess\": {\n",
    "            \"standardize\":True,\n",
    "            \"pca\":False\n",
    "        },\n",
    "        \"fixed_params\" : {\n",
    "            \"qda__priors\":None\n",
    "                        }\n",
    "        ,\n",
    "        \"grid_search_params\":{\n",
    "            # Lower C is higher penalty, if optimal is not at bound the approximation is good enough\n",
    "            \"qda__reg_param\": [0.0, 0.1, 0.2, 0.3, 0.4, 0.5, 0.6, 0.7, 0.8, 0.9, 1.0]\n",
    "            \n",
    "            \n",
    "        }\n",
    "    }\n",
    "    \n",
    "}"
   ]
  },
  {
   "cell_type": "code",
   "execution_count": 198,
   "metadata": {
    "collapsed": true,
    "jupyter": {
     "outputs_hidden": true
    }
   },
   "outputs": [
    {
     "data": {
      "text/plain": [
       "[1, 3, 5, 7, 9, 11, 13, 15, 17, 19]"
      ]
     },
     "execution_count": 198,
     "metadata": {},
     "output_type": "execute_result"
    }
   ],
   "source": [
    "[i for i in range(1,21,2)]"
   ]
  },
  {
   "cell_type": "code",
   "execution_count": 203,
   "metadata": {
    "collapsed": true,
    "jupyter": {
     "outputs_hidden": true
    }
   },
   "outputs": [],
   "source": [
    "tuning_knn = {\n",
    "    \"knn\": {\n",
    "        \"model\": KNeighborsClassifier(),\n",
    "        \"preprocess\": {\n",
    "            \"standardize\":True,\n",
    "            \"pca\":False\n",
    "        },\n",
    "        \"fixed_params\" : {\n",
    "            \"knn__metric\":'minkowski',\n",
    "            \"knn__n_jobs\":1 # Just paralelize the cv not the model itlself.\n",
    "                        }\n",
    "        ,\n",
    "        \"grid_search_params\":{\n",
    "            # This will have to be reduced it takes way too long!\n",
    "            # From 0 to 1 these are not distances, so be careful or make the test params sparser from 0 to 1\n",
    "            \"knn__p\": [0.8, 1.0, 1.2,  1.4,  1.7, 2.0, 2.2, 3.0, 10.0],#Del 0 al 2 y 3,4,10\n",
    "            \"knn__weights\":['uniform','distance'],\n",
    "            # If best near the edge we can fine tune there.\n",
    "            \"knn__n_neighbors\": [1 , 3, 5, 9, 11, 15, 20, 30]\n",
    "\n",
    "            \n",
    "            \n",
    "        }\n",
    "    }\n",
    "    \n",
    "}"
   ]
  },
  {
   "cell_type": "code",
   "execution_count": 5,
   "metadata": {
    "collapsed": true,
    "jupyter": {
     "outputs_hidden": true
    }
   },
   "outputs": [],
   "source": [
    "tuning_svm = { \n",
    "    \"svm\": {\n",
    "        \"model\": SVC(),\n",
    "        \"preprocess\": {\n",
    "            \"standardize\":True,\n",
    "            \"pca\":False\n",
    "        },\n",
    "        \"fixed_params\" : {\n",
    "            \"svm__degree\":3                        \n",
    "        }\n",
    "        ,\n",
    "        \"grid_search_params\":{\n",
    "            # Same as in logit, if near edges we can modify it.\n",
    "            \"svm__C\": [0.001, 0.101, 0.201, 0.301, 0.401, 0.501, 0.601, 0.701, 0.801, 0.901, 1.001,5,10] ,\n",
    "            # Kernel is the most fun thing.\n",
    "            \"svm__kernel\":[\"linear\",\"poly\",\"rbf\",\"sigmoid\"],\n",
    "            # If best near the edge we can fine tune there.\n",
    "            \"svm__gamma\": [\"scale\",\"auto\"],\n",
    "            \"svm__class_weight\": [None,\"balanced\"]\n",
    "\n",
    "            #Will need to fix the random state of the model.\n",
    "            \n",
    "        }\n",
    "    }\n",
    "    \n",
    "}"
   ]
  },
  {
   "cell_type": "code",
   "execution_count": 16,
   "metadata": {
    "collapsed": true,
    "jupyter": {
     "outputs_hidden": true
    }
   },
   "outputs": [],
   "source": [
    "tuning_rf = { \n",
    "    \"rf\": {\n",
    "        \"model\": RandomForestClassifier(),\n",
    "        \"preprocess\": {\n",
    "            \"standardize\":False,\n",
    "            \"pca\":False\n",
    "        },\n",
    "        \"fixed_params\" : {\n",
    "            # Almost in the definition of a random forest.\n",
    "            \"rf__bootstrap\":True                        \n",
    "        }\n",
    "        ,\n",
    "        \"grid_search_params\":{\n",
    "            # If expensive kick out the highest number of trees.\n",
    "            # 100 is default\n",
    "            #Not playing with tree depth or whatever, trees are going to go deep.\n",
    "            \"rf__n_estimators\": [100,200,300,400] ,\n",
    "            \"rf__criterion\":[\"gini\",\"entropy\"],\n",
    "            \"rf__max_features\":[\"sqrt\",\"log2\"] # log2 is more strict!\n",
    "            \n",
    "\n",
    "            #Will need to fix the random state of the model.\n",
    "            \n",
    "        }\n",
    "    }\n",
    "    \n",
    "}"
   ]
  },
  {
   "cell_type": "code",
   "execution_count": 46,
   "metadata": {},
   "outputs": [],
   "source": [
    "tuning_gbdt = { \n",
    "    # This is not working too well I feel like but whatever.\n",
    "    \"gbdt\": {\n",
    "        \"model\": GradientBoostingClassifier(),\n",
    "        \"preprocess\": {\n",
    "            \"standardize\":False,\n",
    "            \"pca\":False\n",
    "        },\n",
    "        \"fixed_params\" : {\n",
    "            # Almost in the definition of a random forest.\n",
    "            \"gbdt__loss\":\"log_loss\",\n",
    "            \"gbdt__n_iter_no_change\":15 # Early stopping I don't want to spend eternity.\n",
    "        }\n",
    "        ,\n",
    "        \"grid_search_params\":{\n",
    "            # If expensive kick out the highest number of trees.\n",
    "            # 100 is default\n",
    "            #Not playing with tree depth or whatever, trees are going to go deep.\n",
    "            \"gbdt__n_estimators\": [100,200,300,400,500],#[100,200], # I think in this context this is M from the book.\n",
    "            \"gbdt__max_depth\":[1,3,5,7,9],#[1,3,5], # I think this is J from the book.\n",
    "            \"gbdt__learning_rate\":[0.1,0.05,0.2,0.3],#[0.05, 0.1, 0.2], # This is v in the book I think, tradeoff between M and v\n",
    "            # I think we want small v, depends on iterations and max depth of the tree.\n",
    "            \"gbdt__max_features\":[\"sqrt\",100,130] # This param with None makes it 5 minutes per iter.\n",
    "            #[None,\"log2\"] # Default is None, but why not introduce a random forest component.\n",
    "            # subsample could also be interesting to tune.\n",
    "            \n",
    "            #This a bit useless probably, as the model with None was so powerful already. -> OH BASELINE 93.5 ok we can work with that.\n",
    "            #Will need to fix the random state of the model.\n",
    "            \n",
    "        }\n",
    "    }\n",
    "    \n",
    "}"
   ]
  },
  {
   "cell_type": "markdown",
   "metadata": {},
   "source": [
    "# 1.3 3 ideas:\n",
    "https://scikit-learn.org/stable/modules/ensemble.html# Ensembles are usually super powerful.\n",
    "- Adaboost in action use decision tree as base learner. We can also tune the base learner, try and iteratively fit SVC or something along those lines.\n",
    "- Random forests or gbdt can be very tuned and should yield some good estimates.\n",
    "- Use PCA somehow, test different optimal number of components.\n",
    "- t-SNE or UMAP, modern dimensionality reduction algorithms.\n",
    "\n",
    "https://scikit-learn.org/stable/auto_examples/ensemble/plot_adaboost_twoclass.html#sphx-glr-auto-examples-ensemble-plot-adaboost-twoclass-py\n",
    "If we can reduce dimensionality to 2 we can plot these decision boundary plots that are so cute.\n"
   ]
  },
  {
   "cell_type": "markdown",
   "metadata": {},
   "source": [
    "| Model | PCA | Standardization | Tuning params | Explanation | Preliminary F1       |   TIME |\n",
    "|----------------|--------------|------------|---|----|-----|--------|\n",
    "| ADABOOST  |  YES     | YES  |estimator, n_estimators, learning_rate| We can try to play with the baseline estimators of the adaboost algorithm. We can sue an SVC or something like that. Try the baseline to be the trees and svc. Then we can modify the number of iterations as well as the learning rate which would be the alpha params. It may be good to keep it low as high values may lead to overfitting. SEEMS LOGISTIC AS BASELINE CAN BE GOOD| 0.93 | 10 min\n",
    "| Try ThresholdClassifierCV()  |       |   | || \n",
    "| PCA toy around justified by screeplot.  |       |   | || "
   ]
  },
  {
   "cell_type": "markdown",
   "metadata": {},
   "source": [
    "## 1.3 Approach 1"
   ]
  },
  {
   "cell_type": "code",
   "execution_count": 111,
   "metadata": {},
   "outputs": [],
   "source": [
    "#{'ada_boost__estimator': LogisticRegression(), 'ada_boost__learning_rate': 0.5, 'ada_boost__n_estimators': 200, 'pca__n_components': 50}\n",
    "# 0.946\n",
    "tuning_ada_boost = { \n",
    "    # This is not working too well I feel like but whatever.\n",
    "    # The JSON will give an error which is problematic. because decision tree classifier\n",
    "    # gets returned.\n",
    "    \"ada_boost\": {\n",
    "        \"model\": AdaBoostClassifier(),\n",
    "        \"preprocess\": {\n",
    "            \"standardize\":True, # Needed for the SVC.\n",
    "            \"pca\":True\n",
    "        },\n",
    "        \"fixed_params\" : {\n",
    "            # Almost in the definition of a random forest.\n",
    "            \"ada_boost__algorithm\":\"SAMME\"\n",
    "        }\n",
    "        ,\n",
    "        \"grid_search_params\":{\n",
    "            # If expensive kick out the highest number of trees.\n",
    "            # 100 is default\n",
    "            #Not playing with tree depth or whatever, trees are going to go deep.\n",
    "            \"ada_boost__estimator\": [DecisionTreeClassifier(max_depth=2),LogisticRegression()], # Try good model as base, may overfit.\n",
    "            \"ada_boost__n_estimators\":[50,100,200,300,400], # Keep iterations low for complex model\n",
    "            \"ada_boost__learning_rate\":[0.05,0.1,0.2,0.5,0.6, 1,1.5], # This would be alpha or similar, keep low so as not to ofit.\n",
    "            \"pca__n_components\":[8,10,12,15,25]\n",
    "        }\n",
    "    }\n",
    "    \n",
    "}"
   ]
  },
  {
   "cell_type": "markdown",
   "metadata": {},
   "source": [
    "## 1.3 Approach 2"
   ]
  },
  {
   "cell_type": "markdown",
   "metadata": {},
   "source": [
    "### Baseline svm out of box. 0.95 Made so it can give back a probability."
   ]
  },
  {
   "cell_type": "code",
   "execution_count": 22,
   "metadata": {},
   "outputs": [],
   "source": [
    "svm = SVC(random_state=42,probability=True)\n",
    "svm.fit(X_TRAIN_G,y_TRAIN_G)\n",
    "y_pred = svm.predict(X_TEST_G)\n",
    "f1_score(y_TEST_G,y_pred)"
   ]
  },
  {
   "cell_type": "code",
   "execution_count": 23,
   "metadata": {},
   "outputs": [
    {
     "data": {
      "text/plain": [
       "np.float64(0.9496774193548387)"
      ]
     },
     "execution_count": 23,
     "metadata": {},
     "output_type": "execute_result"
    }
   ],
   "source": [
    "# y_true, y_pred\n",
    "f1_score(y_TEST_G,y_pred)"
   ]
  },
  {
   "cell_type": "markdown",
   "metadata": {},
   "source": [
    "Other tests"
   ]
  },
  {
   "cell_type": "code",
   "execution_count": 46,
   "metadata": {},
   "outputs": [],
   "source": [
    "lda = LinearDiscriminantAnalysis(solver=\"lsqr\",shrinkage=0.7)\n",
    "lda.fit(X_TRAIN_G,y_TRAIN_G)\n",
    "y_pred_lda = lda.predict(X_TEST_G)\n",
    "# F1 worsens from baseline as well..."
   ]
  },
  {
   "cell_type": "code",
   "execution_count": 47,
   "metadata": {},
   "outputs": [
    {
     "data": {
      "text/plain": [
       "np.float64(0.9501915708812261)"
      ]
     },
     "execution_count": 47,
     "metadata": {},
     "output_type": "execute_result"
    }
   ],
   "source": [
    "f1_score(y_TEST_G,y_pred_lda)"
   ]
  },
  {
   "cell_type": "code",
   "execution_count": 51,
   "metadata": {},
   "outputs": [
    {
     "name": "stderr",
     "output_type": "stream",
     "text": [
      "/opt/anaconda3/envs/m_learn/lib/python3.13/site-packages/sklearn/linear_model/_sag.py:349: ConvergenceWarning: The max_iter was reached which means the coef_ did not converge\n",
      "  warnings.warn(\n"
     ]
    },
    {
     "data": {
      "text/plain": [
       "np.float64(0.9501915708812261)"
      ]
     },
     "execution_count": 51,
     "metadata": {},
     "output_type": "execute_result"
    }
   ],
   "source": [
    "logit = LogisticRegression(C=0.8,class_weight=\"balanced\", penalty=\"l1\",solver=\"saga\")\n",
    "logit.fit(X_TRAIN_G,y_TRAIN_G)\n",
    "y_pred_logit = lda.predict(X_TEST_G)\n",
    "f1_score(y_pred_logit,y_TEST_G)\n"
   ]
  },
  {
   "cell_type": "code",
   "execution_count": 64,
   "metadata": {},
   "outputs": [
    {
     "data": {
      "text/plain": [
       "np.float64(0.9226666666666666)"
      ]
     },
     "execution_count": 64,
     "metadata": {},
     "output_type": "execute_result"
    }
   ],
   "source": [
    "# out of box random forest Improved to 0.94\n",
    "rf = RandomForestClassifier()\n",
    "rf.fit(X_TRAIN_G,y_TRAIN_G)\n",
    "y_pred_rf = rf.predict(X_TEST_G)\n",
    "f1_score(y_pred_rf,y_TEST_G)\n"
   ]
  },
  {
   "cell_type": "markdown",
   "metadata": {},
   "source": [
    "<hr>"
   ]
  },
  {
   "cell_type": "markdown",
   "metadata": {},
   "source": [
    "# Approach 1.3: "
   ]
  },
  {
   "cell_type": "code",
   "execution_count": 93,
   "metadata": {},
   "outputs": [],
   "source": [
    "tuning_rf_13 = { \n",
    "    # This is not working too well I feel like but whatever.\n",
    "    # The JSON will give an error which is problematic. because decision tree classifier\n",
    "    # gets returned.\n",
    "    \"rf_13\": {\n",
    "        \"model\": RandomForestClassifier(),\n",
    "        \"preprocess\": {\n",
    "            \"standardize\":True, \n",
    "            \"pca\":True\n",
    "        },\n",
    "        \"fixed_params\" : {\n",
    "            \"rf_13__criterion\":\"gini\"\n",
    "        }\n",
    "        ,\n",
    "        \"grid_search_params\":{\n",
    "            \"pca__n_components\":[5,6,7,8,9,10,11,12]\n",
    "        }\n",
    "    }\n",
    "    \n",
    "}"
   ]
  },
  {
   "cell_type": "code",
   "execution_count": 124,
   "metadata": {},
   "outputs": [],
   "source": [
    "# Got a test of 0.956 I think that is the highest.\n",
    "tuning_ada_boost_logit = { \n",
    "    # This is not working too well I feel like but whatever.\n",
    "    # The JSON will give an error which is problematic. because decision tree classifier\n",
    "    # gets returned.\n",
    "    \"ada_boost_l\": {\n",
    "        \"model\": AdaBoostClassifier(),\n",
    "        \"preprocess\": {\n",
    "            \"standardize\":True, # Needed for the SVC.\n",
    "            \"pca\":True\n",
    "        },\n",
    "        \"fixed_params\" : {\n",
    "            # Almost in the definition of a random forest.\n",
    "            \"ada_boost_l__algorithm\":\"SAMME\"\n",
    "        }\n",
    "        ,\n",
    "        \"grid_search_params\":{\n",
    "            # If expensive kick out the highest number of trees.\n",
    "            # 100 is default\n",
    "            #Not playing with tree depth or whatever, trees are going to go deep.\n",
    "            \"ada_boost_l__estimator\": [LogisticRegression()], # Try good model as base, may overfit.\n",
    "            \"ada_boost_l__n_estimators\":[100,200,300,400], # Keep iterations low for complex model\n",
    "            \"ada_boost_l__learning_rate\":[0.005,0.01,0.02,0.05,0.1,0.2], # This would be alpha or similar, keep low so as not to ofit.\n",
    "            \"pca__n_components\":[8,10,12,15,25]\n",
    "        }\n",
    "    }\n",
    "    \n",
    "}"
   ]
  },
  {
   "cell_type": "code",
   "execution_count": 143,
   "metadata": {},
   "outputs": [],
   "source": [
    "# Got a test of 0.958 I think that is the highest.\n",
    "# \tparams {'logit_13__C': 0.2, 'logit_13__l1_ratio': 0.6, 'pca__n_components': 25} 2\n",
    "# \n",
    "tuning_logit13 = { \n",
    "    # This is not working too well I feel like but whatever.\n",
    "    # The JSON will give an error which is problematic. because decision tree classifier\n",
    "    # gets returned.\n",
    "    \"logit_13\": {\n",
    "        \"model\": LogisticRegression(),\n",
    "        \"preprocess\": {\n",
    "            \"standardize\":True, # Needed for the SVC.\n",
    "            \"pca\":True\n",
    "        },\n",
    "        \"fixed_params\" : {\n",
    "            # Almost in the definition of a random forest.\n",
    "            \"logit_13__solver\":\"saga\",\n",
    "            \"logit_13__penalty\": \"elasticnet\",\n",
    "            \"logit_13__max_iter\": 200\n",
    "        }\n",
    "        ,\n",
    "        \"grid_search_params\":{\n",
    "            # If expensive kick out the highest number of trees.\n",
    "            # 100 is default\n",
    "            #Not playing with tree depth or whatever, trees are going to go deep.\n",
    "            \"logit_13__C\": [0,0.1,0.2,0.3], # Try good model as base, may overfit.\n",
    "            \"logit_13__l1_ratio\":[0,0.2,0.4,0.6,0.8,1],\n",
    "            \"pca__n_components\":[8,10,12,15,25,30,35,40,45,60,70,80,90,100],\n",
    "            \"logit_13__class_weight\":[\"balanced\",None]\n",
    "        }\n",
    "    }\n",
    "    \n",
    "}"
   ]
  },
  {
   "cell_type": "code",
   "execution_count": null,
   "metadata": {
    "scrolled": true
   },
   "outputs": [
    {
     "name": "stdout",
     "output_type": "stream",
     "text": [
      "Tuning model: logit_13\n",
      "Pipeline(steps=[('scaler', StandardScaler()), ('pca', PCA(n_components=10)),\n",
      "                ('logit_13',\n",
      "                 LogisticRegression(max_iter=200, penalty='elasticnet',\n",
      "                                    solver='saga'))])\n",
      "Searching over the following parameters:{'logit_13__C': [0, 0.1, 0.2, 0.3], 'logit_13__l1_ratio': [0, 0.2, 0.4, 0.6, 0.8, 1], 'pca__n_components': [8, 10, 12, 15, 25, 30, 35, 40, 45, 60, 70, 80, 90, 100], 'logit_13__class_weight': ['balanced', None]}\n",
      "Fitting 5 folds for each of 672 candidates, totalling 3360 fits\n"
     ]
    }
   ],
   "source": [
    "CV_FOLD = 5\n",
    "SCORING = \"f1\"\n",
    "N_JOBS = -1 # Means we use paralel computing across folds to accelerate muajajaja.\n",
    "# For test it reduced 4 minutes, out of 17 so not too bad.\n",
    "# For verbosity we would ideally want a global indicator like percentage of fits done and a time\n",
    "\n",
    "#I will need to fix the random state of the cross validation inside the GridSearch\n",
    "\n",
    "\n",
    "for model, params in tuning_logit13.items():\n",
    "    print(\"Tuning model: \" +model)\n",
    "    \n",
    "    pipeline = pipe_maker(model_name=model,\n",
    "                       model = params[\"model\"],\n",
    "                       standardize=params[\"preprocess\"][\"standardize\"],\n",
    "                       with_pca=params[\"preprocess\"][\"pca\"] \n",
    "                      )\n",
    "    \n",
    "    # Setting parameters that will not be grid searched.\n",
    "    pipeline.set_params(**params[\"fixed_params\"])\n",
    "    print(pipeline)\n",
    "\n",
    "    # Scoring to maximize the F1 score, cv 5 fold. \n",
    "    print(f\"Searching over the following parameters:{params[\"grid_search_params\"]}\")\n",
    "    \n",
    "    grid_search = GridSearchCV(pipeline, param_grid=params[\"grid_search_params\"],scoring=SCORING,cv=CV_FOLD,n_jobs=N_JOBS,\n",
    "                               verbose = 1 #More information.\n",
    "                               # Try one I want 300/1500 fits completed\n",
    "                              \n",
    "                              )\n",
    "\n",
    "    #  REMEMBER: This comes from a fixed random state =42, we can't hyper parameter tune on the test set! \n",
    "    # This training set is then fixed, all final check should be conducted on test based on random split\n",
    "    tic =time.time()\n",
    "\n",
    "    grid_search.fit(X_TRAIN_G,y_TRAIN_G)\n",
    "\n",
    "    toc = time.time()\n",
    "    \n",
    "    exec_time = (toc-tic)/60\n",
    "    \n",
    "    # Export results. Full thing to csv. Dictionary of optimal params to csv\n",
    "    full_results = pd.DataFrame(grid_search.cv_results_)\n",
    "    full_results.to_csv(\"Tuning_params/\"+model+\".csv\")\n",
    "\n",
    "    # Params to json\n",
    "    optimal_params_to_json = grid_search.best_params_.copy()\n",
    "    optimal_params_to_json[\"MODEL_NAME\"] = model\n",
    "    optimal_params_to_json[\"DATE\"] = datetime.datetime.now().strftime(\"%m/%d/%Y, %H:%M:%S\")\n",
    "    optimal_params_to_json[\"TIME_ELAPSED\"] = exec_time\n",
    "    #FOR ADABOOST NEED TO COMMENT THIS OR GIVES ERROR.\n",
    "    #hyper_param(path=\"Tuning_params/\"+model+\".json\",params=optimal_params_to_json)\n",
    "    \n",
    "    # Succesful\n",
    "    print(\"Hypertuning of: \" +model+ f\". Time elapsed: {exec_time} minutes\")\n",
    "    y_test_pred = grid_search.predict(X_TEST_G)\n",
    "    print(f\"F1 on test set: {f1_score(y_TEST_G,y_test_pred)}\")"
   ]
  },
  {
   "cell_type": "markdown",
   "metadata": {},
   "source": [
    "# Can't go to a 0.96, is the grid search being f1 making things worse?\n",
    "\n",
    "It could be that this grid search param makes the model good f1 for the optimal threshold but then not for the different thresholds."
   ]
  },
  {
   "cell_type": "code",
   "execution_count": 138,
   "metadata": {},
   "outputs": [
    {
     "name": "stdout",
     "output_type": "stream",
     "text": [
      "2.9565707008043924\n"
     ]
    },
    {
     "data": {
      "text/plain": [
       "np.float64(0.9278350515463918)"
      ]
     },
     "execution_count": 138,
     "metadata": {},
     "output_type": "execute_result"
    }
   ],
   "source": [
    "tic = time.time()\n",
    "gbdt = GradientBoostingClassifier(random_state=42)\n",
    "gbdt.fit(X_TRAIN_G,y_TRAIN_G)\n",
    "y_pred = gbdt.predict(X_TEST_G)\n",
    "toc = time.time()\n",
    "print((toc-tic)/60)\n",
    "f1_score(y_TEST_G,y_pred)"
   ]
  },
  {
   "cell_type": "code",
   "execution_count": 139,
   "metadata": {},
   "outputs": [
    {
     "name": "stdout",
     "output_type": "stream",
     "text": [
      "14.756601746877035 minutes to run.\n",
      "0.4459125820454244 0.9323714883994777\n",
      "F1 on test set after thresholding: 0.9326556543837357\n"
     ]
    }
   ],
   "source": [
    "#grid_search.best_estimator_\n",
    "\n",
    "threshold_modifier = TunedThresholdClassifierCV(gbdt, scoring=\"f1\",random_state=42,store_cv_results=True)\n",
    "\n",
    "tic = time.time()\n",
    "threshold_modifier.fit(X_TRAIN_G,y_TRAIN_G)\n",
    "\n",
    "toc = time.time()\n",
    "print(f\"{(toc-tic)/60} minutes to run.\")\n",
    "\n",
    "print(threshold_modifier.best_threshold_, threshold_modifier.best_score_)\n",
    "\n",
    "y_pred_t = threshold_modifier.predict(X_TEST_G)\n",
    "\n",
    "print(f\"F1 on test set after thresholding: {f1_score(y_TEST_G, y_pred_t)}\")"
   ]
  },
  {
   "cell_type": "code",
   "execution_count": null,
   "metadata": {},
   "outputs": [],
   "source": []
  },
  {
   "cell_type": "code",
   "execution_count": 140,
   "metadata": {},
   "outputs": [
    {
     "data": {
      "text/plain": [
       "Text(0.5, 1.0, 'F1 score vs. Decision threshold -- Cross-validation')"
      ]
     },
     "execution_count": 140,
     "metadata": {},
     "output_type": "execute_result"
    },
    {
     "data": {
      "image/png": "[encoded data removed]",
      "text/plain": [
       "<Figure size 500x500 with 1 Axes>"
      ]
     },
     "metadata": {},
     "output_type": "display_data"
    }
   ],
   "source": [
    "#https://towardsdatascience.com/tune-in-decision-threshold-optimization-with-scikit-learns-tunedthresholdclassifiercv-7de558a2cf58\n",
    "fig, ax = plt.subplots(figsize=(5, 5))\n",
    "ax.plot(\n",
    "    threshold_modifier.cv_results_[\"thresholds\"],\n",
    "    threshold_modifier.cv_results_[\"scores\"],\n",
    "    marker=\"o\",\n",
    "    linewidth=1e-3,\n",
    "    markersize=1,\n",
    "    color=\"#c0c0c0\",\n",
    ")\n",
    "ax.plot(\n",
    "    threshold_modifier.best_threshold_,\n",
    "    threshold_modifier.best_score_,\n",
    "    \"^\",\n",
    "    markersize=10,\n",
    "    color=\"#ff6700\",\n",
    "    label=f\"Optimal cut-off point = {threshold_modifier.best_threshold_:.2f}\",\n",
    ")\n",
    "ax.axhline(f1_score(y_TEST_G, y_pred_t), label =\"F1 on test after thresholding\")\n",
    "\n",
    "ax.axhline(0.96, label =\"0.96 where we want to go\")\n",
    "\n",
    "\n",
    "ax.plot(\n",
    "    0.5,\n",
    "    0.90,\n",
    "    label=\"Default threshold: 0.5, not true for all models eh\",\n",
    "    color=\"#004e98\",\n",
    "    linestyle=\"--\",\n",
    "    marker=\"X\",\n",
    "    markersize=10,\n",
    ")\n",
    "ax.legend(fontsize=8, loc=\"lower center\")\n",
    "ax.set_xlabel(\"Decision threshold\", fontsize=10)\n",
    "ax.set_ylabel(\"F1 score\", fontsize=10)\n",
    "ax.set_title(\"F1 score vs. Decision threshold -- Cross-validation\", fontsize=12)"
   ]
  },
  {
   "cell_type": "code",
   "execution_count": null,
   "metadata": {},
   "outputs": [],
   "source": []
  },
  {
   "cell_type": "code",
   "execution_count": null,
   "metadata": {},
   "outputs": [],
   "source": []
  },
  {
   "cell_type": "code",
   "execution_count": null,
   "metadata": {},
   "outputs": [],
   "source": []
  },
  {
   "cell_type": "code",
   "execution_count": null,
   "metadata": {},
   "outputs": [],
   "source": []
  },
  {
   "cell_type": "code",
   "execution_count": null,
   "metadata": {},
   "outputs": [],
   "source": []
  },
  {
   "cell_type": "code",
   "execution_count": 32,
   "metadata": {},
   "outputs": [],
   "source": [
    "# tuning_voting = { \n",
    "#     # This is not working too well I feel like but whatever.\n",
    "#     # The JSON will give an error which is problematic. because decision tree classifier\n",
    "#     # gets returned.\n",
    "#     \"voting\": {\n",
    "#         \"model\": VotingClassifier([\n",
    "#         ('lr', LogisticRegression()), ('svm', SVC(probability=True)), ('rf', RandomForestClassifier())\n",
    "#             ]),\n",
    "#         \"preprocess\": {\n",
    "#             \"standardize\":True, # Needed for the SVC.\n",
    "#             \"pca\":True\n",
    "#         },\n",
    "#         \"fixed_params\" : {\n",
    "#             # Almost in the definition of a random forest.\n",
    "#             \"voting__weights\":None\n",
    "#         }\n",
    "#         ,\n",
    "#         \"grid_search_params\":{\n",
    "#             # If expensive kick out the highest number of trees.\n",
    "#             # 100 is default\n",
    "#             #Not playing with tree depth or whatever, trees are going to go deep.\n",
    "#          # Models should be calibrated already.\n",
    "#             \"voting__voting\":[\"hard\",\"soft\"],\n",
    "#             \"pca__n_components\":[10,100]\n",
    "#         }\n",
    "#     }\n",
    "    \n",
    "# }"
   ]
  },
  {
   "cell_type": "code",
   "execution_count": null,
   "metadata": {},
   "outputs": [],
   "source": []
  }
 ],
 "metadata": {
  "kernelspec": {
   "display_name": "Python 3 (ipykernel)",
   "language": "python",
   "name": "python3"
  },
  "language_info": {
   "codemirror_mode": {
    "name": "ipython",
    "version": 3
   },
   "file_extension": ".py",
   "mimetype": "text/x-python",
   "name": "python",
   "nbconvert_exporter": "python",
   "pygments_lexer": "ipython3",
   "version": "3.13.0"
  }
 },
 "nbformat": 4,
 "nbformat_minor": 4
}
