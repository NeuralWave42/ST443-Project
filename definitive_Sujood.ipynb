{
 "cells": [
  {
   "cell_type": "markdown",
   "metadata": {},
   "source": [
    "## Libraries"
   ]
  },
  {
   "cell_type": "code",
   "execution_count": 1,
   "metadata": {},
   "outputs": [],
   "source": [
    "import pandas as pd\n",
    "import numpy as np\n",
    "from sklearn.model_selection import train_test_split\n",
    "import seaborn as sns\n",
    "from sklearn.feature_selection import VarianceThreshold\n",
    "from sklearn.preprocessing import StandardScaler\n",
    "from sklearn.linear_model import Lasso\n",
    "from sklearn.metrics import balanced_accuracy_score\n",
    "from sklearn.model_selection import KFold\n",
    "import matplotlib.pyplot as plt\n",
    "from sklearn.svm import SVC\n",
    "from mlxtend.feature_selection import SequentialFeatureSelector as sfs\n",
    "from sklearn.ensemble import RandomForestClassifier, AdaBoostClassifier\n",
    "from mlxtend.feature_selection import SequentialFeatureSelector as sfs\n",
    "from sklearn.linear_model import LogisticRegression\n",
    "from sklearn.model_selection import GridSearchCV\n",
    "from sklearn.feature_selection import SelectKBest \n",
    "\n"
   ]
  },
  {
   "cell_type": "markdown",
   "metadata": {},
   "source": [
    "## Data"
   ]
  },
  {
   "cell_type": "code",
   "execution_count": 2,
   "metadata": {},
   "outputs": [
    {
     "data": {
      "text/html": [
       "<div>\n",
       "<style scoped>\n",
       "    .dataframe tbody tr th:only-of-type {\n",
       "        vertical-align: middle;\n",
       "    }\n",
       "\n",
       "    .dataframe tbody tr th {\n",
       "        vertical-align: top;\n",
       "    }\n",
       "\n",
       "    .dataframe thead th {\n",
       "        text-align: right;\n",
       "    }\n",
       "</style>\n",
       "<table border=\"1\" class=\"dataframe\">\n",
       "  <thead>\n",
       "    <tr style=\"text-align: right;\">\n",
       "      <th></th>\n",
       "      <th>label</th>\n",
       "      <th>0</th>\n",
       "      <th>1</th>\n",
       "      <th>2</th>\n",
       "      <th>3</th>\n",
       "      <th>4</th>\n",
       "      <th>5</th>\n",
       "      <th>6</th>\n",
       "      <th>7</th>\n",
       "      <th>8</th>\n",
       "      <th>...</th>\n",
       "      <th>99990</th>\n",
       "      <th>99991</th>\n",
       "      <th>99992</th>\n",
       "      <th>99993</th>\n",
       "      <th>99994</th>\n",
       "      <th>99995</th>\n",
       "      <th>99996</th>\n",
       "      <th>99997</th>\n",
       "      <th>99998</th>\n",
       "      <th>99999</th>\n",
       "    </tr>\n",
       "  </thead>\n",
       "  <tbody>\n",
       "    <tr>\n",
       "      <th>0</th>\n",
       "      <td>-1</td>\n",
       "      <td>0</td>\n",
       "      <td>0</td>\n",
       "      <td>0</td>\n",
       "      <td>0</td>\n",
       "      <td>0</td>\n",
       "      <td>0</td>\n",
       "      <td>0</td>\n",
       "      <td>0</td>\n",
       "      <td>0</td>\n",
       "      <td>...</td>\n",
       "      <td>0</td>\n",
       "      <td>0</td>\n",
       "      <td>0</td>\n",
       "      <td>0</td>\n",
       "      <td>0</td>\n",
       "      <td>0</td>\n",
       "      <td>0</td>\n",
       "      <td>1</td>\n",
       "      <td>0</td>\n",
       "      <td>0</td>\n",
       "    </tr>\n",
       "    <tr>\n",
       "      <th>1</th>\n",
       "      <td>-1</td>\n",
       "      <td>0</td>\n",
       "      <td>0</td>\n",
       "      <td>0</td>\n",
       "      <td>0</td>\n",
       "      <td>0</td>\n",
       "      <td>0</td>\n",
       "      <td>0</td>\n",
       "      <td>0</td>\n",
       "      <td>0</td>\n",
       "      <td>...</td>\n",
       "      <td>0</td>\n",
       "      <td>0</td>\n",
       "      <td>0</td>\n",
       "      <td>0</td>\n",
       "      <td>0</td>\n",
       "      <td>0</td>\n",
       "      <td>0</td>\n",
       "      <td>0</td>\n",
       "      <td>0</td>\n",
       "      <td>0</td>\n",
       "    </tr>\n",
       "    <tr>\n",
       "      <th>2</th>\n",
       "      <td>-1</td>\n",
       "      <td>0</td>\n",
       "      <td>0</td>\n",
       "      <td>0</td>\n",
       "      <td>0</td>\n",
       "      <td>0</td>\n",
       "      <td>0</td>\n",
       "      <td>0</td>\n",
       "      <td>0</td>\n",
       "      <td>0</td>\n",
       "      <td>...</td>\n",
       "      <td>0</td>\n",
       "      <td>0</td>\n",
       "      <td>0</td>\n",
       "      <td>0</td>\n",
       "      <td>0</td>\n",
       "      <td>0</td>\n",
       "      <td>0</td>\n",
       "      <td>0</td>\n",
       "      <td>0</td>\n",
       "      <td>0</td>\n",
       "    </tr>\n",
       "    <tr>\n",
       "      <th>3</th>\n",
       "      <td>-1</td>\n",
       "      <td>0</td>\n",
       "      <td>0</td>\n",
       "      <td>0</td>\n",
       "      <td>0</td>\n",
       "      <td>0</td>\n",
       "      <td>0</td>\n",
       "      <td>0</td>\n",
       "      <td>0</td>\n",
       "      <td>0</td>\n",
       "      <td>...</td>\n",
       "      <td>0</td>\n",
       "      <td>0</td>\n",
       "      <td>0</td>\n",
       "      <td>0</td>\n",
       "      <td>0</td>\n",
       "      <td>0</td>\n",
       "      <td>0</td>\n",
       "      <td>0</td>\n",
       "      <td>0</td>\n",
       "      <td>0</td>\n",
       "    </tr>\n",
       "    <tr>\n",
       "      <th>4</th>\n",
       "      <td>-1</td>\n",
       "      <td>0</td>\n",
       "      <td>0</td>\n",
       "      <td>0</td>\n",
       "      <td>0</td>\n",
       "      <td>0</td>\n",
       "      <td>0</td>\n",
       "      <td>0</td>\n",
       "      <td>0</td>\n",
       "      <td>0</td>\n",
       "      <td>...</td>\n",
       "      <td>0</td>\n",
       "      <td>0</td>\n",
       "      <td>0</td>\n",
       "      <td>0</td>\n",
       "      <td>0</td>\n",
       "      <td>0</td>\n",
       "      <td>0</td>\n",
       "      <td>0</td>\n",
       "      <td>0</td>\n",
       "      <td>1</td>\n",
       "    </tr>\n",
       "    <tr>\n",
       "      <th>...</th>\n",
       "      <td>...</td>\n",
       "      <td>...</td>\n",
       "      <td>...</td>\n",
       "      <td>...</td>\n",
       "      <td>...</td>\n",
       "      <td>...</td>\n",
       "      <td>...</td>\n",
       "      <td>...</td>\n",
       "      <td>...</td>\n",
       "      <td>...</td>\n",
       "      <td>...</td>\n",
       "      <td>...</td>\n",
       "      <td>...</td>\n",
       "      <td>...</td>\n",
       "      <td>...</td>\n",
       "      <td>...</td>\n",
       "      <td>...</td>\n",
       "      <td>...</td>\n",
       "      <td>...</td>\n",
       "      <td>...</td>\n",
       "      <td>...</td>\n",
       "    </tr>\n",
       "    <tr>\n",
       "      <th>795</th>\n",
       "      <td>-1</td>\n",
       "      <td>0</td>\n",
       "      <td>0</td>\n",
       "      <td>0</td>\n",
       "      <td>0</td>\n",
       "      <td>0</td>\n",
       "      <td>0</td>\n",
       "      <td>0</td>\n",
       "      <td>0</td>\n",
       "      <td>0</td>\n",
       "      <td>...</td>\n",
       "      <td>0</td>\n",
       "      <td>0</td>\n",
       "      <td>0</td>\n",
       "      <td>0</td>\n",
       "      <td>0</td>\n",
       "      <td>0</td>\n",
       "      <td>0</td>\n",
       "      <td>0</td>\n",
       "      <td>0</td>\n",
       "      <td>1</td>\n",
       "    </tr>\n",
       "    <tr>\n",
       "      <th>796</th>\n",
       "      <td>-1</td>\n",
       "      <td>0</td>\n",
       "      <td>0</td>\n",
       "      <td>0</td>\n",
       "      <td>0</td>\n",
       "      <td>0</td>\n",
       "      <td>0</td>\n",
       "      <td>0</td>\n",
       "      <td>0</td>\n",
       "      <td>0</td>\n",
       "      <td>...</td>\n",
       "      <td>0</td>\n",
       "      <td>0</td>\n",
       "      <td>0</td>\n",
       "      <td>0</td>\n",
       "      <td>0</td>\n",
       "      <td>0</td>\n",
       "      <td>0</td>\n",
       "      <td>0</td>\n",
       "      <td>0</td>\n",
       "      <td>0</td>\n",
       "    </tr>\n",
       "    <tr>\n",
       "      <th>797</th>\n",
       "      <td>-1</td>\n",
       "      <td>0</td>\n",
       "      <td>0</td>\n",
       "      <td>0</td>\n",
       "      <td>0</td>\n",
       "      <td>0</td>\n",
       "      <td>0</td>\n",
       "      <td>0</td>\n",
       "      <td>0</td>\n",
       "      <td>0</td>\n",
       "      <td>...</td>\n",
       "      <td>0</td>\n",
       "      <td>0</td>\n",
       "      <td>0</td>\n",
       "      <td>0</td>\n",
       "      <td>0</td>\n",
       "      <td>0</td>\n",
       "      <td>0</td>\n",
       "      <td>0</td>\n",
       "      <td>0</td>\n",
       "      <td>0</td>\n",
       "    </tr>\n",
       "    <tr>\n",
       "      <th>798</th>\n",
       "      <td>-1</td>\n",
       "      <td>0</td>\n",
       "      <td>0</td>\n",
       "      <td>0</td>\n",
       "      <td>0</td>\n",
       "      <td>0</td>\n",
       "      <td>0</td>\n",
       "      <td>0</td>\n",
       "      <td>0</td>\n",
       "      <td>0</td>\n",
       "      <td>...</td>\n",
       "      <td>0</td>\n",
       "      <td>0</td>\n",
       "      <td>0</td>\n",
       "      <td>0</td>\n",
       "      <td>0</td>\n",
       "      <td>0</td>\n",
       "      <td>0</td>\n",
       "      <td>0</td>\n",
       "      <td>0</td>\n",
       "      <td>0</td>\n",
       "    </tr>\n",
       "    <tr>\n",
       "      <th>799</th>\n",
       "      <td>1</td>\n",
       "      <td>0</td>\n",
       "      <td>0</td>\n",
       "      <td>0</td>\n",
       "      <td>0</td>\n",
       "      <td>0</td>\n",
       "      <td>0</td>\n",
       "      <td>0</td>\n",
       "      <td>0</td>\n",
       "      <td>0</td>\n",
       "      <td>...</td>\n",
       "      <td>0</td>\n",
       "      <td>0</td>\n",
       "      <td>0</td>\n",
       "      <td>0</td>\n",
       "      <td>0</td>\n",
       "      <td>0</td>\n",
       "      <td>0</td>\n",
       "      <td>0</td>\n",
       "      <td>0</td>\n",
       "      <td>0</td>\n",
       "    </tr>\n",
       "  </tbody>\n",
       "</table>\n",
       "<p>800 rows × 100001 columns</p>\n",
       "</div>"
      ],
      "text/plain": [
       "     label  0  1  2  3  4  5  6  7  8  ...  99990  99991  99992  99993  99994  \\\n",
       "0       -1  0  0  0  0  0  0  0  0  0  ...      0      0      0      0      0   \n",
       "1       -1  0  0  0  0  0  0  0  0  0  ...      0      0      0      0      0   \n",
       "2       -1  0  0  0  0  0  0  0  0  0  ...      0      0      0      0      0   \n",
       "3       -1  0  0  0  0  0  0  0  0  0  ...      0      0      0      0      0   \n",
       "4       -1  0  0  0  0  0  0  0  0  0  ...      0      0      0      0      0   \n",
       "..     ... .. .. .. .. .. .. .. .. ..  ...    ...    ...    ...    ...    ...   \n",
       "795     -1  0  0  0  0  0  0  0  0  0  ...      0      0      0      0      0   \n",
       "796     -1  0  0  0  0  0  0  0  0  0  ...      0      0      0      0      0   \n",
       "797     -1  0  0  0  0  0  0  0  0  0  ...      0      0      0      0      0   \n",
       "798     -1  0  0  0  0  0  0  0  0  0  ...      0      0      0      0      0   \n",
       "799      1  0  0  0  0  0  0  0  0  0  ...      0      0      0      0      0   \n",
       "\n",
       "     99995  99996  99997  99998  99999  \n",
       "0        0      0      1      0      0  \n",
       "1        0      0      0      0      0  \n",
       "2        0      0      0      0      0  \n",
       "3        0      0      0      0      0  \n",
       "4        0      0      0      0      1  \n",
       "..     ...    ...    ...    ...    ...  \n",
       "795      0      0      0      0      1  \n",
       "796      0      0      0      0      0  \n",
       "797      0      0      0      0      0  \n",
       "798      0      0      0      0      0  \n",
       "799      0      0      0      0      0  \n",
       "\n",
       "[800 rows x 100001 columns]"
      ]
     },
     "execution_count": 2,
     "metadata": {},
     "output_type": "execute_result"
    }
   ],
   "source": [
    "data = pd.read_csv('data2.csv.gz')\n",
    "data"
   ]
  },
  {
   "cell_type": "markdown",
   "metadata": {},
   "source": [
    "## Exploratory Data Analysis"
   ]
  },
  {
   "cell_type": "markdown",
   "metadata": {},
   "source": [
    "# Data is binary 0 and 1\n",
    "# very imbalanaced \n",
    "# some columns have 0 variance on the whole sample : they provide no info -> we drop for some of the methods \n"
   ]
  },
  {
   "cell_type": "code",
   "execution_count": 3,
   "metadata": {},
   "outputs": [
    {
     "data": {
      "text/plain": [
       "(800, 100001)"
      ]
     },
     "execution_count": 3,
     "metadata": {},
     "output_type": "execute_result"
    }
   ],
   "source": [
    "data.shape"
   ]
  },
  {
   "cell_type": "code",
   "execution_count": 4,
   "metadata": {},
   "outputs": [
    {
     "name": "stdout",
     "output_type": "stream",
     "text": [
      "<class 'pandas.core.frame.DataFrame'>\n",
      "RangeIndex: 800 entries, 0 to 799\n",
      "Columns: 100001 entries, label to 99999\n",
      "dtypes: int64(100001)\n",
      "memory usage: 610.4 MB\n"
     ]
    }
   ],
   "source": [
    "data.info()"
   ]
  },
  {
   "cell_type": "code",
   "execution_count": 5,
   "metadata": {},
   "outputs": [
    {
     "data": {
      "text/html": [
       "<div>\n",
       "<style scoped>\n",
       "    .dataframe tbody tr th:only-of-type {\n",
       "        vertical-align: middle;\n",
       "    }\n",
       "\n",
       "    .dataframe tbody tr th {\n",
       "        vertical-align: top;\n",
       "    }\n",
       "\n",
       "    .dataframe thead th {\n",
       "        text-align: right;\n",
       "    }\n",
       "</style>\n",
       "<table border=\"1\" class=\"dataframe\">\n",
       "  <thead>\n",
       "    <tr style=\"text-align: right;\">\n",
       "      <th></th>\n",
       "      <th>label</th>\n",
       "      <th>0</th>\n",
       "      <th>1</th>\n",
       "      <th>2</th>\n",
       "      <th>3</th>\n",
       "      <th>4</th>\n",
       "      <th>5</th>\n",
       "      <th>6</th>\n",
       "      <th>7</th>\n",
       "      <th>8</th>\n",
       "      <th>...</th>\n",
       "      <th>99990</th>\n",
       "      <th>99991</th>\n",
       "      <th>99992</th>\n",
       "      <th>99993</th>\n",
       "      <th>99994</th>\n",
       "      <th>99995</th>\n",
       "      <th>99996</th>\n",
       "      <th>99997</th>\n",
       "      <th>99998</th>\n",
       "      <th>99999</th>\n",
       "    </tr>\n",
       "  </thead>\n",
       "  <tbody>\n",
       "    <tr>\n",
       "      <th>count</th>\n",
       "      <td>800.000000</td>\n",
       "      <td>800.000000</td>\n",
       "      <td>800.0</td>\n",
       "      <td>800.000000</td>\n",
       "      <td>800.0</td>\n",
       "      <td>800.000000</td>\n",
       "      <td>800.000000</td>\n",
       "      <td>800.000000</td>\n",
       "      <td>800.000000</td>\n",
       "      <td>800.000000</td>\n",
       "      <td>...</td>\n",
       "      <td>800.000000</td>\n",
       "      <td>800.000000</td>\n",
       "      <td>800.0</td>\n",
       "      <td>800.000000</td>\n",
       "      <td>800.0</td>\n",
       "      <td>800.000000</td>\n",
       "      <td>800.000000</td>\n",
       "      <td>800.000000</td>\n",
       "      <td>800.000000</td>\n",
       "      <td>800.000000</td>\n",
       "    </tr>\n",
       "    <tr>\n",
       "      <th>mean</th>\n",
       "      <td>-0.805000</td>\n",
       "      <td>0.012500</td>\n",
       "      <td>0.0</td>\n",
       "      <td>0.001250</td>\n",
       "      <td>0.0</td>\n",
       "      <td>0.020000</td>\n",
       "      <td>0.003750</td>\n",
       "      <td>0.017500</td>\n",
       "      <td>0.001250</td>\n",
       "      <td>0.006250</td>\n",
       "      <td>...</td>\n",
       "      <td>0.013750</td>\n",
       "      <td>0.007500</td>\n",
       "      <td>0.0</td>\n",
       "      <td>0.001250</td>\n",
       "      <td>0.0</td>\n",
       "      <td>0.006250</td>\n",
       "      <td>0.007500</td>\n",
       "      <td>0.012500</td>\n",
       "      <td>0.006250</td>\n",
       "      <td>0.035000</td>\n",
       "    </tr>\n",
       "    <tr>\n",
       "      <th>std</th>\n",
       "      <td>0.593646</td>\n",
       "      <td>0.111172</td>\n",
       "      <td>0.0</td>\n",
       "      <td>0.035355</td>\n",
       "      <td>0.0</td>\n",
       "      <td>0.140088</td>\n",
       "      <td>0.061161</td>\n",
       "      <td>0.131207</td>\n",
       "      <td>0.035355</td>\n",
       "      <td>0.078859</td>\n",
       "      <td>...</td>\n",
       "      <td>0.116524</td>\n",
       "      <td>0.086331</td>\n",
       "      <td>0.0</td>\n",
       "      <td>0.035355</td>\n",
       "      <td>0.0</td>\n",
       "      <td>0.078859</td>\n",
       "      <td>0.086331</td>\n",
       "      <td>0.111172</td>\n",
       "      <td>0.078859</td>\n",
       "      <td>0.183895</td>\n",
       "    </tr>\n",
       "    <tr>\n",
       "      <th>min</th>\n",
       "      <td>-1.000000</td>\n",
       "      <td>0.000000</td>\n",
       "      <td>0.0</td>\n",
       "      <td>0.000000</td>\n",
       "      <td>0.0</td>\n",
       "      <td>0.000000</td>\n",
       "      <td>0.000000</td>\n",
       "      <td>0.000000</td>\n",
       "      <td>0.000000</td>\n",
       "      <td>0.000000</td>\n",
       "      <td>...</td>\n",
       "      <td>0.000000</td>\n",
       "      <td>0.000000</td>\n",
       "      <td>0.0</td>\n",
       "      <td>0.000000</td>\n",
       "      <td>0.0</td>\n",
       "      <td>0.000000</td>\n",
       "      <td>0.000000</td>\n",
       "      <td>0.000000</td>\n",
       "      <td>0.000000</td>\n",
       "      <td>0.000000</td>\n",
       "    </tr>\n",
       "    <tr>\n",
       "      <th>25%</th>\n",
       "      <td>-1.000000</td>\n",
       "      <td>0.000000</td>\n",
       "      <td>0.0</td>\n",
       "      <td>0.000000</td>\n",
       "      <td>0.0</td>\n",
       "      <td>0.000000</td>\n",
       "      <td>0.000000</td>\n",
       "      <td>0.000000</td>\n",
       "      <td>0.000000</td>\n",
       "      <td>0.000000</td>\n",
       "      <td>...</td>\n",
       "      <td>0.000000</td>\n",
       "      <td>0.000000</td>\n",
       "      <td>0.0</td>\n",
       "      <td>0.000000</td>\n",
       "      <td>0.0</td>\n",
       "      <td>0.000000</td>\n",
       "      <td>0.000000</td>\n",
       "      <td>0.000000</td>\n",
       "      <td>0.000000</td>\n",
       "      <td>0.000000</td>\n",
       "    </tr>\n",
       "    <tr>\n",
       "      <th>50%</th>\n",
       "      <td>-1.000000</td>\n",
       "      <td>0.000000</td>\n",
       "      <td>0.0</td>\n",
       "      <td>0.000000</td>\n",
       "      <td>0.0</td>\n",
       "      <td>0.000000</td>\n",
       "      <td>0.000000</td>\n",
       "      <td>0.000000</td>\n",
       "      <td>0.000000</td>\n",
       "      <td>0.000000</td>\n",
       "      <td>...</td>\n",
       "      <td>0.000000</td>\n",
       "      <td>0.000000</td>\n",
       "      <td>0.0</td>\n",
       "      <td>0.000000</td>\n",
       "      <td>0.0</td>\n",
       "      <td>0.000000</td>\n",
       "      <td>0.000000</td>\n",
       "      <td>0.000000</td>\n",
       "      <td>0.000000</td>\n",
       "      <td>0.000000</td>\n",
       "    </tr>\n",
       "    <tr>\n",
       "      <th>75%</th>\n",
       "      <td>-1.000000</td>\n",
       "      <td>0.000000</td>\n",
       "      <td>0.0</td>\n",
       "      <td>0.000000</td>\n",
       "      <td>0.0</td>\n",
       "      <td>0.000000</td>\n",
       "      <td>0.000000</td>\n",
       "      <td>0.000000</td>\n",
       "      <td>0.000000</td>\n",
       "      <td>0.000000</td>\n",
       "      <td>...</td>\n",
       "      <td>0.000000</td>\n",
       "      <td>0.000000</td>\n",
       "      <td>0.0</td>\n",
       "      <td>0.000000</td>\n",
       "      <td>0.0</td>\n",
       "      <td>0.000000</td>\n",
       "      <td>0.000000</td>\n",
       "      <td>0.000000</td>\n",
       "      <td>0.000000</td>\n",
       "      <td>0.000000</td>\n",
       "    </tr>\n",
       "    <tr>\n",
       "      <th>max</th>\n",
       "      <td>1.000000</td>\n",
       "      <td>1.000000</td>\n",
       "      <td>0.0</td>\n",
       "      <td>1.000000</td>\n",
       "      <td>0.0</td>\n",
       "      <td>1.000000</td>\n",
       "      <td>1.000000</td>\n",
       "      <td>1.000000</td>\n",
       "      <td>1.000000</td>\n",
       "      <td>1.000000</td>\n",
       "      <td>...</td>\n",
       "      <td>1.000000</td>\n",
       "      <td>1.000000</td>\n",
       "      <td>0.0</td>\n",
       "      <td>1.000000</td>\n",
       "      <td>0.0</td>\n",
       "      <td>1.000000</td>\n",
       "      <td>1.000000</td>\n",
       "      <td>1.000000</td>\n",
       "      <td>1.000000</td>\n",
       "      <td>1.000000</td>\n",
       "    </tr>\n",
       "  </tbody>\n",
       "</table>\n",
       "<p>8 rows × 100001 columns</p>\n",
       "</div>"
      ],
      "text/plain": [
       "            label           0      1           2      3           4  \\\n",
       "count  800.000000  800.000000  800.0  800.000000  800.0  800.000000   \n",
       "mean    -0.805000    0.012500    0.0    0.001250    0.0    0.020000   \n",
       "std      0.593646    0.111172    0.0    0.035355    0.0    0.140088   \n",
       "min     -1.000000    0.000000    0.0    0.000000    0.0    0.000000   \n",
       "25%     -1.000000    0.000000    0.0    0.000000    0.0    0.000000   \n",
       "50%     -1.000000    0.000000    0.0    0.000000    0.0    0.000000   \n",
       "75%     -1.000000    0.000000    0.0    0.000000    0.0    0.000000   \n",
       "max      1.000000    1.000000    0.0    1.000000    0.0    1.000000   \n",
       "\n",
       "                5           6           7           8  ...       99990  \\\n",
       "count  800.000000  800.000000  800.000000  800.000000  ...  800.000000   \n",
       "mean     0.003750    0.017500    0.001250    0.006250  ...    0.013750   \n",
       "std      0.061161    0.131207    0.035355    0.078859  ...    0.116524   \n",
       "min      0.000000    0.000000    0.000000    0.000000  ...    0.000000   \n",
       "25%      0.000000    0.000000    0.000000    0.000000  ...    0.000000   \n",
       "50%      0.000000    0.000000    0.000000    0.000000  ...    0.000000   \n",
       "75%      0.000000    0.000000    0.000000    0.000000  ...    0.000000   \n",
       "max      1.000000    1.000000    1.000000    1.000000  ...    1.000000   \n",
       "\n",
       "            99991  99992       99993  99994       99995       99996  \\\n",
       "count  800.000000  800.0  800.000000  800.0  800.000000  800.000000   \n",
       "mean     0.007500    0.0    0.001250    0.0    0.006250    0.007500   \n",
       "std      0.086331    0.0    0.035355    0.0    0.078859    0.086331   \n",
       "min      0.000000    0.0    0.000000    0.0    0.000000    0.000000   \n",
       "25%      0.000000    0.0    0.000000    0.0    0.000000    0.000000   \n",
       "50%      0.000000    0.0    0.000000    0.0    0.000000    0.000000   \n",
       "75%      0.000000    0.0    0.000000    0.0    0.000000    0.000000   \n",
       "max      1.000000    0.0    1.000000    0.0    1.000000    1.000000   \n",
       "\n",
       "            99997       99998       99999  \n",
       "count  800.000000  800.000000  800.000000  \n",
       "mean     0.012500    0.006250    0.035000  \n",
       "std      0.111172    0.078859    0.183895  \n",
       "min      0.000000    0.000000    0.000000  \n",
       "25%      0.000000    0.000000    0.000000  \n",
       "50%      0.000000    0.000000    0.000000  \n",
       "75%      0.000000    0.000000    0.000000  \n",
       "max      1.000000    1.000000    1.000000  \n",
       "\n",
       "[8 rows x 100001 columns]"
      ]
     },
     "execution_count": 5,
     "metadata": {},
     "output_type": "execute_result"
    }
   ],
   "source": [
    "summary = data.describe()\n",
    "summary"
   ]
  },
  {
   "cell_type": "code",
   "execution_count": 6,
   "metadata": {},
   "outputs": [
    {
     "name": "stdout",
     "output_type": "stream",
     "text": [
      "Total missing values:  0\n"
     ]
    }
   ],
   "source": [
    "#check if the data has any null values:\n",
    "print(\"Total missing values: \", data.isnull().sum().sum())"
   ]
  },
  {
   "cell_type": "code",
   "execution_count": 7,
   "metadata": {},
   "outputs": [],
   "source": [
    "#the first column has the target values, while the other columns are features\n",
    "Y = data.iloc[:, 0]\n",
    "X = data.iloc[:, 1:]"
   ]
  },
  {
   "cell_type": "code",
   "execution_count": 8,
   "metadata": {},
   "outputs": [
    {
     "name": "stdout",
     "output_type": "stream",
     "text": [
      "label\n",
      "-1    722\n",
      " 1     78\n",
      "Name: count, dtype: int64\n"
     ]
    },
    {
     "data": {
      "text/plain": [
       "<Axes: xlabel='label', ylabel='count'>"
      ]
     },
     "execution_count": 8,
     "metadata": {},
     "output_type": "execute_result"
    },
    {
     "data": {
      "image/png": "[encoded data removed]",
      "text/plain": [
       "<Figure size 640x480 with 1 Axes>"
      ]
     },
     "metadata": {},
     "output_type": "display_data"
    }
   ],
   "source": [
    "#check if the balance of the data:\n",
    "print(Y.value_counts())\n",
    "sns.countplot(x=Y)"
   ]
  },
  {
   "cell_type": "code",
   "execution_count": 9,
   "metadata": {},
   "outputs": [
    {
     "name": "stdout",
     "output_type": "stream",
     "text": [
      "label\n",
      "-1    0.9025\n",
      " 1    0.0975\n",
      "Name: proportion, dtype: float64\n"
     ]
    }
   ],
   "source": [
    "print(Y.value_counts(normalize=True))"
   ]
  },
  {
   "cell_type": "markdown",
   "metadata": {},
   "source": [
    "The above plot shows that the data is imbalanced and it may needs to be oversampled to handle the imbalance. Models trained on imbalanced data may become biased toward the majority class, ignoring the minority class."
   ]
  },
  {
   "cell_type": "code",
   "execution_count": 10,
   "metadata": {},
   "outputs": [
    {
     "name": "stdout",
     "output_type": "stream",
     "text": [
      "Sparsity: 99.09%\n"
     ]
    }
   ],
   "source": [
    "sparsity = (X == 0).sum().sum() / (X.shape[0] * X.shape[1])\n",
    "print(f\"Sparsity: {sparsity * 100:.2f}%\")"
   ]
  },
  {
   "cell_type": "markdown",
   "metadata": {},
   "source": [
    "We split the data into train and test data: \n",
    "* setting stratify to yes ensures -> the proportion of values in the sample produced will be the same as the proportion of values provided by parameter"
   ]
  },
  {
   "cell_type": "code",
   "execution_count": 11,
   "metadata": {},
   "outputs": [],
   "source": [
    "X_train, X_test, y_train, y_test = train_test_split(X, Y, test_size=0.2, random_state=42)"
   ]
  },
  {
   "cell_type": "markdown",
   "metadata": {},
   "source": [
    "# Functions"
   ]
  },
  {
   "cell_type": "markdown",
   "metadata": {},
   "source": [
    "### General Thresholding function"
   ]
  },
  {
   "cell_type": "code",
   "execution_count": 12,
   "metadata": {},
   "outputs": [],
   "source": [
    "def thresholding(threshold, y):\n",
    "    '''\n",
    "    transforms the predictions based on a given threshold\n",
    "    \n",
    "    args : threshold\n",
    "         y: predicted probabilities\n",
    "        \n",
    "    returns: y_predictions\n",
    "    '''\n",
    "    y_copy = y.copy()\n",
    "    y_copy[y_copy>threshold] = 1 \n",
    "    y_copy[y_copy<=threshold] = -1\n",
    "    return y_copy"
   ]
  },
  {
   "cell_type": "code",
   "execution_count": 13,
   "metadata": {},
   "outputs": [],
   "source": [
    "#Hethe threshold are tuned:\n",
    "\n",
    "def lasso_alpha (alpha, kf_splits = 5, X_train = X_train, y_train=y_train, thresholds=[0]):\n",
    "    '''\n",
    "    this function for a given alpha, it tunes the set of thresholds using Kfolds cross validation\n",
    "\n",
    "    return: average threshold from the optimal thresholds\n",
    "    '''\n",
    "\n",
    "    kf = KFold(kf_splits)\n",
    "    \n",
    "    fold_optimal = []\n",
    "\n",
    "    #cross validationg only on the training set\n",
    "    \n",
    "    for i, (train_index, test_index) in enumerate(kf.split(X_train)):\n",
    "        x_train_cv = X_train.iloc[train_index, :]\n",
    "        x_test_cv = X_train.iloc[test_index,:] #test set from the training set\n",
    "        y_train_cv = y_train.iloc[train_index]\n",
    "        y_test_cv = y_train.iloc[test_index]\n",
    "        lasso = Lasso(alpha)\n",
    "        lasso.fit(x_train_cv, y_train_cv)\n",
    "        y_pred = lasso.predict(x_test_cv)\n",
    "        \n",
    "        #tuning the threshold for each fold -> only training set used\n",
    "\n",
    "        fold_scores = []\n",
    "        for threshold in thresholds:\n",
    "            y_label = thresholding(threshold, y_pred)\n",
    "            fold_scores.append(balanced_accuracy_score(y_test_cv, y_label))\n",
    "\n",
    "        #the best threshold per fold is appended to the optimal\n",
    "\n",
    "        fold_optimal.append(thresholds[np.argmax(fold_scores)])  \n",
    "\n",
    "    return np.average(fold_optimal) "
   ]
  },
  {
   "cell_type": "code",
   "execution_count": 14,
   "metadata": {},
   "outputs": [],
   "source": [
    "#this function tunes the threshold for any model that has the predict_proba \n",
    "\n",
    "def threshold_model (model=SVC(probability=True), kf_splits = 5, X_train = X_train, y_train=y_train, thresholds=[0]):\n",
    "    kf = KFold(kf_splits)\n",
    "    \n",
    "    fold_optimal = []\n",
    "    for i, (train_index, test_index) in enumerate(kf.split(X_train)):\n",
    "        #cv splitting\n",
    "        x_train_cv = X_train[train_index, :]\n",
    "        x_test_cv = X_train[test_index,:]\n",
    "        y_train_cv = y_train.iloc[train_index]\n",
    "        y_test_cv = y_train.iloc[test_index]\n",
    "        \n",
    "        #model fit and predict for any model with predict proba\n",
    "\n",
    "        model.fit(x_train_cv, y_train_cv)\n",
    "        # This is now returning an array probabilit of class 1, prob class 2\n",
    "        y_pred = model.predict_proba(x_test_cv)[:,1] #first column is the probabilities of the negative class\n",
    "        #print(y_pred)\n",
    "        fold_scores = []\n",
    "        for threshold in thresholds:\n",
    "            y_label = thresholding(threshold, y_pred)\n",
    "            #print(y_label)\n",
    "            fold_scores.append(balanced_accuracy_score(y_test_cv, y_label))\n",
    "        #print(fold_scores)\n",
    "        fold_optimal.append(thresholds[np.argmax(fold_scores)])\n",
    "    return np.average(fold_optimal)"
   ]
  },
  {
   "cell_type": "markdown",
   "metadata": {},
   "source": [
    "## Baseline Lasso\n",
    "tuning alpha -> threshold set to default (=0)"
   ]
  },
  {
   "cell_type": "code",
   "execution_count": 15,
   "metadata": {},
   "outputs": [],
   "source": [
    "alpha_space = np.arange(0.001,0.041,0.001)\n",
    "#alpha_space"
   ]
  },
  {
   "cell_type": "code",
   "execution_count": 16,
   "metadata": {},
   "outputs": [
    {
     "name": "stdout",
     "output_type": "stream",
     "text": [
      "(0.001, 0.7673611111111112)\n",
      "(0.002, 0.8020833333333333)\n",
      "(0.003, 0.7986111111111112)\n",
      "(0.004, 0.8020833333333333)\n",
      "(0.005, 0.8020833333333333)\n",
      "(0.006, 0.8020833333333333)\n",
      "(0.007, 0.8020833333333333)\n",
      "(0.008, 0.8055555555555556)\n",
      "(0.009000000000000001, 0.7743055555555556)\n",
      "(0.010000000000000002, 0.7777777777777778)\n",
      "(0.011, 0.7777777777777778)\n",
      "(0.012, 0.7777777777777778)\n",
      "(0.013000000000000001, 0.7777777777777778)\n",
      "(0.014000000000000002, 0.7777777777777778)\n",
      "(0.015, 0.7777777777777778)\n",
      "(0.016, 0.7777777777777778)\n",
      "(0.017, 0.7465277777777778)\n",
      "(0.018000000000000002, 0.7465277777777778)\n",
      "(0.019000000000000003, 0.7152777777777778)\n",
      "(0.02, 0.7152777777777778)\n",
      "(0.021, 0.7152777777777778)\n",
      "(0.022000000000000002, 0.7152777777777778)\n",
      "(0.023, 0.7152777777777778)\n",
      "(0.024, 0.7152777777777778)\n",
      "(0.025, 0.7152777777777778)\n",
      "(0.026000000000000002, 0.7152777777777778)\n",
      "(0.027000000000000003, 0.7152777777777778)\n",
      "(0.028, 0.7152777777777778)\n",
      "(0.029, 0.7152777777777778)\n",
      "(0.030000000000000002, 0.6527777777777778)\n",
      "(0.031, 0.6527777777777778)\n",
      "(0.032, 0.6527777777777778)\n",
      "(0.033, 0.6527777777777778)\n",
      "(0.034, 0.6527777777777778)\n",
      "(0.035, 0.6527777777777778)\n",
      "(0.036000000000000004, 0.6527777777777778)\n",
      "(0.037000000000000005, 0.6527777777777778)\n",
      "(0.038, 0.6527777777777778)\n",
      "(0.039, 0.6527777777777778)\n",
      "(0.04, 0.5)\n"
     ]
    }
   ],
   "source": [
    "alpha_scores = []\n",
    "for alpha in alpha_space:\n",
    "    lasso = Lasso(alpha)\n",
    "    lasso.fit(X_train,y_train)\n",
    "    y_pred = lasso.predict(X_test)\n",
    "    y_label = thresholding(0, y_pred)\n",
    "    alpha_scores.append((alpha, balanced_accuracy_score(y_test, y_label)))\n",
    "    print((alpha, balanced_accuracy_score(y_test, y_label)))"
   ]
  },
  {
   "cell_type": "markdown",
   "metadata": {},
   "source": [
    "## Lasso with Threshold tuning"
   ]
  },
  {
   "cell_type": "code",
   "execution_count": 17,
   "metadata": {},
   "outputs": [],
   "source": [
    "thresholds = [0.0, 0.1, 0.2, 0.3, 0.4, 0.5, 0.6, 0.7, 0.8, 0.9, -0.1, -0.2, -0.3, -0.4, -0.5, -0.6, -0.7, -0.8, -0.9]\n",
    "alpha_space = np.arange(0.005, 0.05, 0.002)"
   ]
  },
  {
   "cell_type": "code",
   "execution_count": 18,
   "metadata": {},
   "outputs": [
    {
     "name": "stdout",
     "output_type": "stream",
     "text": [
      "(0.005, 0.8506944444444444, 181)\n",
      "(0.007, 0.8576388888888888, 102)\n",
      "(0.009000000000000001, 0.8576388888888888, 62)\n",
      "(0.011, 0.8576388888888888, 34)\n",
      "(0.013000000000000001, 0.8645833333333333, 20)\n",
      "(0.015, 0.8333333333333333, 11)\n",
      "(0.017, 0.8368055555555556, 7)\n",
      "(0.019, 0.8368055555555556, 6)\n",
      "(0.021, 0.8368055555555556, 6)\n",
      "(0.023000000000000003, 0.7743055555555556, 5)\n",
      "(0.025, 0.7743055555555556, 4)\n",
      "(0.027, 0.8333333333333333, 4)\n",
      "(0.029, 0.8333333333333333, 4)\n",
      "(0.031000000000000003, 0.8333333333333333, 4)\n",
      "(0.033, 0.8333333333333333, 3)\n",
      "(0.034999999999999996, 0.8333333333333333, 3)\n",
      "(0.037, 0.8368055555555556, 3)\n",
      "(0.039, 0.8368055555555556, 3)\n",
      "(0.041, 0.8368055555555556, 3)\n",
      "(0.043, 0.8055555555555556, 3)\n",
      "(0.045, 0.8055555555555556, 3)\n",
      "(0.047, 0.8055555555555556, 3)\n",
      "(0.048999999999999995, 0.8055555555555556, 2)\n"
     ]
    }
   ],
   "source": [
    "balanced_scores = []  #8.12 it's not working as well\n",
    "\n",
    "#for alpha space we tune threshold for each alpha and then test lasso with the optimal threshold on the test set\n",
    "\n",
    "for alpha in alpha_space:\n",
    "    #find optimal threshold for the given alpha\n",
    "    optimal_threshold = lasso_alpha(alpha, X_train=X_train,y_train=y_train, thresholds=thresholds )\n",
    "\n",
    "    #fit lasso model using the optimal threshold to get the balanced accuracy for this alpha\n",
    "    lasso = Lasso(alpha, max_iter=10000, tol=0.00001)\n",
    "    lasso.fit(X_train, y_train)\n",
    "    y_predict = lasso.predict(X_test)\n",
    "    \n",
    "    #using the optial threshold we transform the prbabilities to labels\n",
    "    y_label = thresholding(optimal_threshold,y_predict)\n",
    "    num_selected_features = X_train.values[:, lasso.coef_!=0].shape[1]\n",
    "    \n",
    "    balanced_scores.append((alpha, balanced_accuracy_score(y_test, y_label), num_selected_features))\n",
    "    print((alpha, balanced_accuracy_score(y_test, y_label), num_selected_features))\n"
   ]
  },
  {
   "cell_type": "code",
   "execution_count": 19,
   "metadata": {},
   "outputs": [
    {
     "data": {
      "text/plain": [
       "[<matplotlib.lines.Line2D at 0x1953c604380>]"
      ]
     },
     "execution_count": 19,
     "metadata": {},
     "output_type": "execute_result"
    },
    {
     "data": {
      "image/png": "[encoded data removed]",
      "text/plain": [
       "<Figure size 640x480 with 1 Axes>"
      ]
     },
     "metadata": {},
     "output_type": "display_data"
    }
   ],
   "source": [
    "df = pd.DataFrame(balanced_scores, columns=['Alpha', 'Balanced score', 'No. Features'])\n",
    "df_badly_averaged = df.groupby('No. Features',as_index=False).mean()\n",
    "plt.plot(df_badly_averaged['No. Features'], df_badly_averaged['Balanced score'])"
   ]
  },
  {
   "cell_type": "markdown",
   "metadata": {},
   "source": [
    "## Lasso and SVM"
   ]
  },
  {
   "cell_type": "code",
   "execution_count": 20,
   "metadata": {},
   "outputs": [
    {
     "name": "stdout",
     "output_type": "stream",
     "text": [
      "(0.005, 0.7465277777777778, 181)\n",
      "(0.007, 0.8402777777777778, 102)\n",
      "(0.009000000000000001, 0.8055555555555556, 62)\n",
      "(0.011, 0.8263888888888888, 34)\n",
      "(0.013000000000000001, 0.8923611111111112, 20)\n",
      "(0.015, 0.8506944444444444, 11)\n",
      "(0.017, 0.9166666666666667, 7)\n",
      "(0.019, 0.8854166666666667, 6)\n",
      "(0.021, 0.8854166666666667, 6)\n",
      "(0.023000000000000003, 0.8854166666666667, 5)\n",
      "(0.025, 0.8645833333333333, 4)\n",
      "(0.027, 0.8645833333333333, 4)\n",
      "(0.029, 0.8645833333333333, 4)\n",
      "(0.031000000000000003, 0.8645833333333333, 4)\n",
      "(0.033, 0.8333333333333333, 3)\n",
      "(0.034999999999999996, 0.8333333333333333, 3)\n",
      "(0.037, 0.8333333333333333, 3)\n",
      "(0.039, 0.8333333333333333, 3)\n",
      "(0.041, 0.8333333333333333, 3)\n",
      "(0.043, 0.8333333333333333, 3)\n",
      "(0.045, 0.8333333333333333, 3)\n",
      "(0.047, 0.8333333333333333, 3)\n",
      "(0.048999999999999995, 0.8333333333333333, 2)\n"
     ]
    }
   ],
   "source": [
    "#Baseline SVC with lasso for feature selection\n",
    "# testing class weitgh 'None' vs 'balanced'\n",
    "# with balanced it gives the best balanced accuracy with 7 features selected\n",
    "#there is no threshold -> predicting with svm.predict\n",
    "\n",
    "balanced_scores = []\n",
    "for alpha in alpha_space:\n",
    "    lasso = Lasso(alpha)\n",
    "    lasso.fit(X_train, y_train)\n",
    "    # Get the columns with non zro coefficients from lasso\n",
    "    x_train_subset = X_train.values[:, lasso.coef_!=0]\n",
    "    x_test_subset = X_test.values[:, lasso.coef_!=0]\n",
    "    num_selected_features = X_train.values[:, lasso.coef_!=0].shape[1]\n",
    "    #Train svm on selected features.\n",
    "    svm = SVC(probability=True, class_weight='balanced')\n",
    "    svm.fit(x_train_subset, y_train)\n",
    "    #Test accuracy metrics.\n",
    "    y_pred = svm.predict(x_test_subset)\n",
    "\n",
    "    balanced_scores.append((alpha, balanced_accuracy_score(y_test, y_pred), num_selected_features))\n",
    "    print((alpha, balanced_accuracy_score(y_test, y_pred), num_selected_features))\n"
   ]
  },
  {
   "cell_type": "code",
   "execution_count": 21,
   "metadata": {},
   "outputs": [
    {
     "name": "stdout",
     "output_type": "stream",
     "text": [
      "(0.005, 0.8333333333333333, 181)\n",
      "(0.007, 0.8368055555555556, 102)\n",
      "(0.009000000000000001, 0.8541666666666667, 62)\n",
      "(0.011, 0.8229166666666667, 34)\n",
      "(0.013000000000000001, 0.8923611111111112, 20)\n",
      "(0.015, 0.8819444444444444, 11)\n",
      "(0.017, 0.9166666666666667, 7)\n",
      "(0.019, 0.9166666666666667, 6)\n",
      "(0.021, 0.9166666666666667, 6)\n",
      "(0.023000000000000003, 0.8854166666666667, 5)\n",
      "(0.025, 0.8645833333333333, 4)\n",
      "(0.027, 0.8645833333333333, 4)\n",
      "(0.029, 0.8645833333333333, 4)\n",
      "(0.031000000000000003, 0.8645833333333333, 4)\n",
      "(0.033, 0.8333333333333333, 3)\n",
      "(0.034999999999999996, 0.8333333333333333, 3)\n",
      "(0.037, 0.8333333333333333, 3)\n",
      "(0.039, 0.8333333333333333, 3)\n",
      "(0.041, 0.8333333333333333, 3)\n",
      "(0.043, 0.8333333333333333, 3)\n",
      "(0.045, 0.8333333333333333, 3)\n",
      "(0.047, 0.8333333333333333, 3)\n",
      "(0.048999999999999995, 0.8333333333333333, 2)\n"
     ]
    }
   ],
   "source": [
    "#using svm.predict_proba and then the thresholding_model method to tune the threshold\n",
    "#alpha and the threshold are tuned\n",
    "#svm class_weight set to balanced  -> without setting it we get slightly worse results\n",
    "\n",
    "balanced_scores = []\n",
    "for alpha in alpha_space:\n",
    "    lasso = Lasso(alpha)\n",
    "    lasso.fit(X_train, y_train)\n",
    "\n",
    "    #the selected features with lasso\n",
    "    num_selected_features = X_train.values[:, lasso.coef_!=0].shape[1]\n",
    "\n",
    "    # Get the columns with non zero coefficients from lasso\n",
    "    x_train_subset = X_train.values[:, lasso.coef_!=0]\n",
    "    x_test_subset = X_test.values[:, lasso.coef_!=0]\n",
    "\n",
    "    #initialise the model\n",
    "    svm = SVC(probability=True, class_weight='balanced') \n",
    "\n",
    "    #tune the threshold\n",
    "    optimal_threshold = threshold_model(model=svm, X_train=x_train_subset, thresholds=thresholds)\n",
    "\n",
    "    \n",
    "    #Train svm on selected features.\n",
    "    svm.fit(x_train_subset, y_train)\n",
    "\n",
    "    #Test accuracy metrics.\n",
    "    y_pred = svm.predict_proba(x_test_subset)[:,1]\n",
    "    y_label = thresholding(optimal_threshold,y_pred)\n",
    "\n",
    "    balanced_scores.append((alpha, balanced_accuracy_score(y_test, y_label), num_selected_features))\n",
    "    print((alpha, balanced_accuracy_score(y_test, y_label), num_selected_features))"
   ]
  },
  {
   "cell_type": "code",
   "execution_count": 22,
   "metadata": {},
   "outputs": [
    {
     "data": {
      "text/plain": [
       "[<matplotlib.lines.Line2D at 0x1953c5f3dd0>]"
      ]
     },
     "execution_count": 22,
     "metadata": {},
     "output_type": "execute_result"
    },
    {
     "data": {
      "image/png": "[encoded data removed]",
      "text/plain": [
       "<Figure size 640x480 with 1 Axes>"
      ]
     },
     "metadata": {},
     "output_type": "display_data"
    }
   ],
   "source": [
    "svc_fine_threshold = pd.DataFrame(balanced_scores,columns=['alpha','test_acc','features'])\n",
    "plt.plot(svc_fine_threshold['features'], svc_fine_threshold['test_acc'])\n"
   ]
  },
  {
   "cell_type": "markdown",
   "metadata": {},
   "source": [
    "## Baseline Random Forest"
   ]
  },
  {
   "cell_type": "code",
   "execution_count": 23,
   "metadata": {},
   "outputs": [],
   "source": [
    "# # we tried this for the forward selection, it gives 0.82 for 5 features\n",
    "\n",
    "# x_trial = X_train.iloc[:, :10000]\n",
    "# rf = RandomForestClassifier()"
   ]
  },
  {
   "cell_type": "code",
   "execution_count": 24,
   "metadata": {},
   "outputs": [],
   "source": [
    "# sfs_trial = sfs(\n",
    "#     k_features=5,\n",
    "#     estimator=rf,\n",
    "#     forward=True,                 # Perform forward selection\n",
    "#     floating=False,               # Disable dynamic feature adjustment\n",
    "#     scoring='balanced_accuracy',  # Metric for feature subset evaluation\n",
    "#     cv=5,                         # 5-fold cross-validation # we tried with 10 folds, nothing changed in terms of accuracy but execution time doubled \n",
    "#     n_jobs=-1,                    # Use all CPU cores\n",
    "#     verbose=2                     # Display progress\n",
    "# )"
   ]
  },
  {
   "cell_type": "code",
   "execution_count": 25,
   "metadata": {},
   "outputs": [],
   "source": [
    "# sfs_trial = sfs_trial.fit(x_train_lasso, y_train)"
   ]
  },
  {
   "cell_type": "code",
   "execution_count": 26,
   "metadata": {},
   "outputs": [
    {
     "data": {
      "text/plain": [
       "'# Transform the dataset to include only selected features\\nX_train_selected = sfs_trial.transform(x_train_lasso)\\nX_test_selected = sfs_trial.transform(x_test_lasso)\\n\\nrf = RandomForestClassifier()\\n\\nrf.fit(X_train_selected, y_train)\\ny_pred = rf.predict(X_test_selected)\\n\\n\\nbalanced_accuracy = balanced_accuracy_score(y_test, y_pred)\\nprint(balanced_accuracy)'"
      ]
     },
     "execution_count": 26,
     "metadata": {},
     "output_type": "execute_result"
    }
   ],
   "source": [
    "'''# Transform the dataset to include only selected features\n",
    "X_train_selected = sfs_trial.transform(x_train_lasso)\n",
    "X_test_selected = sfs_trial.transform(x_test_lasso)\n",
    "\n",
    "rf = RandomForestClassifier()\n",
    "\n",
    "rf.fit(X_train_selected, y_train)\n",
    "y_pred = rf.predict(X_test_selected)\n",
    "\n",
    "\n",
    "balanced_accuracy = balanced_accuracy_score(y_test, y_pred)\n",
    "print(balanced_accuracy)'''"
   ]
  },
  {
   "cell_type": "markdown",
   "metadata": {},
   "source": [
    "## SelectKbest"
   ]
  },
  {
   "cell_type": "code",
   "execution_count": 27,
   "metadata": {},
   "outputs": [],
   "source": [
    "selector = VarianceThreshold(threshold=0)\n",
    "X_train_removed_0_var = selector.fit_transform(X_train)\n",
    "X_test_removed_0_var = selector.transform(X_test)"
   ]
  },
  {
   "cell_type": "code",
   "execution_count": 28,
   "metadata": {},
   "outputs": [
    {
     "name": "stdout",
     "output_type": "stream",
     "text": [
      "(0.7430555555555556, 1)\n",
      "(0.7708333333333333, 6)\n",
      "(0.8333333333333333, 11)\n",
      "(0.8958333333333333, 16)\n",
      "(0.8958333333333333, 21)\n",
      "(0.8819444444444444, 26)\n",
      "(0.8819444444444444, 31)\n",
      "(0.8923611111111112, 36)\n",
      "(0.8923611111111112, 41)\n",
      "(0.8923611111111112, 46)\n",
      "(0.8923611111111112, 51)\n",
      "(0.8923611111111112, 56)\n",
      "(0.8888888888888888, 61)\n",
      "(0.8888888888888888, 66)\n",
      "(0.9201388888888888, 71)\n",
      "(0.9201388888888888, 76)\n",
      "(0.9201388888888888, 81)\n",
      "(0.9166666666666667, 86)\n",
      "(0.9166666666666667, 91)\n",
      "(0.9479166666666667, 96)\n",
      "(0.9097222222222222, 101)\n",
      "(0.90625, 106)\n",
      "(0.90625, 111)\n",
      "(0.9027777777777778, 116)\n",
      "(0.9027777777777778, 121)\n",
      "(0.9027777777777778, 126)\n",
      "(0.9027777777777778, 131)\n",
      "(0.9027777777777778, 136)\n",
      "(0.9027777777777778, 141)\n",
      "(0.9027777777777778, 146)\n",
      "(0.9027777777777778, 151)\n",
      "(0.90625, 156)\n",
      "(0.90625, 161)\n",
      "(0.9097222222222222, 166)\n",
      "(0.9097222222222222, 171)\n",
      "(0.9097222222222222, 176)\n",
      "(0.9097222222222222, 181)\n",
      "(0.9131944444444444, 186)\n",
      "(0.9131944444444444, 191)\n",
      "(0.9131944444444444, 196)\n",
      "(0.9131944444444444, 201)\n",
      "(0.9166666666666667, 206)\n",
      "(0.9166666666666667, 211)\n",
      "(0.9166666666666667, 216)\n",
      "(0.9166666666666667, 221)\n",
      "(0.9097222222222222, 226)\n",
      "(0.9097222222222222, 231)\n",
      "(0.90625, 236)\n",
      "(0.90625, 241)\n",
      "(0.9097222222222222, 246)\n",
      "(0.9097222222222222, 251)\n",
      "(0.9097222222222222, 256)\n",
      "(0.9097222222222222, 261)\n",
      "(0.9097222222222222, 266)\n",
      "(0.9097222222222222, 271)\n",
      "(0.9097222222222222, 276)\n",
      "(0.9097222222222222, 281)\n",
      "(0.9375, 286)\n",
      "(0.9375, 291)\n",
      "(0.9375, 296)\n",
      "(0.9375, 301)\n",
      "(0.9375, 306)\n",
      "(0.9375, 311)\n",
      "(0.9375, 316)\n",
      "(0.9375, 321)\n",
      "(0.9375, 326)\n",
      "(0.9375, 331)\n",
      "(0.9375, 336)\n",
      "(0.9375, 341)\n",
      "(0.9375, 346)\n",
      "(0.9375, 351)\n",
      "(0.9375, 356)\n",
      "(0.9375, 361)\n",
      "(0.9375, 366)\n",
      "(0.9375, 371)\n",
      "(0.9375, 376)\n",
      "(0.9375, 381)\n",
      "(0.9375, 386)\n",
      "(0.9340277777777778, 391)\n",
      "(0.9340277777777778, 396)\n",
      "(0.9340277777777778, 401)\n",
      "(0.9340277777777778, 406)\n",
      "(0.9340277777777778, 411)\n",
      "(0.9340277777777778, 416)\n",
      "(0.9340277777777778, 421)\n",
      "(0.9340277777777778, 426)\n",
      "(0.9340277777777778, 431)\n",
      "(0.9340277777777778, 436)\n",
      "(0.9340277777777778, 441)\n",
      "(0.9340277777777778, 446)\n",
      "(0.9340277777777778, 451)\n",
      "(0.9340277777777778, 456)\n",
      "(0.9305555555555556, 461)\n",
      "(0.9305555555555556, 466)\n",
      "(0.9305555555555556, 471)\n",
      "(0.9305555555555556, 476)\n",
      "(0.9305555555555556, 481)\n",
      "(0.9305555555555556, 486)\n",
      "(0.9305555555555556, 491)\n",
      "(0.9305555555555556, 496)\n"
     ]
    }
   ],
   "source": [
    "scores = []\n",
    "for i in range(1,500,5):\n",
    "\n",
    "    #baseline method:\n",
    "    model = SelectKBest(k=i)  #default score function is f_classif which is based on ANOVA F-value\n",
    "    X_train_kbest = model.fit_transform(X_train_removed_0_var, y_train)\n",
    "    x_test_kbest = model.transform(X_test_removed_0_var)\n",
    "\n",
    "\n",
    "    svc = SVC(class_weight='balanced')\n",
    "\n",
    "    svc.fit(X_train_kbest, y_train)\n",
    "    y_pred = svc.predict(x_test_kbest)\n",
    "    \n",
    "    scores.append(( balanced_accuracy_score(y_test, y_pred), i))\n",
    "    print((balanced_accuracy_score(y_test, y_pred), i))\n",
    "#print(scores)"
   ]
  },
  {
   "cell_type": "code",
   "execution_count": 29,
   "metadata": {},
   "outputs": [
    {
     "data": {
      "text/plain": [
       "<matplotlib.lines.Line2D at 0x1953c607a10>"
      ]
     },
     "execution_count": 29,
     "metadata": {},
     "output_type": "execute_result"
    },
    {
     "data": {
      "image/png": "[encoded data removed]",
      "text/plain": [
       "<Figure size 640x480 with 1 Axes>"
      ]
     },
     "metadata": {},
     "output_type": "display_data"
    }
   ],
   "source": [
    "scores_df = pd.DataFrame(scores)\n",
    "plt.plot(scores_df[1], scores_df[0])\n",
    "plt.axhline(y=0.9479166666666667,color= 'r',label = '96 features')\n"
   ]
  }
 ],
 "metadata": {
  "kernelspec": {
   "display_name": "st445",
   "language": "python",
   "name": "python3"
  },
  "language_info": {
   "codemirror_mode": {
    "name": "ipython",
    "version": 3
   },
   "file_extension": ".py",
   "mimetype": "text/x-python",
   "name": "python",
   "nbconvert_exporter": "python",
   "pygments_lexer": "ipython3",
   "version": "3.12.7"
  }
 },
 "nbformat": 4,
 "nbformat_minor": 2
}
