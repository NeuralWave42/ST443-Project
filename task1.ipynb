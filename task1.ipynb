{
 "cells": [
  {
   "cell_type": "markdown",
   "metadata": {
    "vscode": {
     "languageId": "plaintext"
    }
   },
   "source": [
    "# Main Imports"
   ]
  },
  {
   "cell_type": "code",
   "execution_count": 1,
   "metadata": {},
   "outputs": [],
   "source": [
    "import os\n",
    "import numpy as np\n",
    "import pandas as pd\n",
    "import datetime\n",
    "import time\n",
    "import json # Export dictionary of tuned parameters.\n",
    "from sklearn.model_selection import train_test_split\n",
    "from sklearn.preprocessing import LabelEncoder, StandardScaler\n",
    "from sklearn.decomposition import PCA\n",
    "from sklearn.pipeline import Pipeline\n",
    "from sklearn.model_selection import GridSearchCV # For hyperparameter tuning.\n",
    "from sklearn.model_selection import StratifiedKFold\n",
    "from sklearn.ensemble import BaggingClassifier, StackingClassifier\n",
    "\n",
    "\n",
    "\n",
    "# Evaluation metrics import\n",
    "from sklearn.metrics import (\n",
    "    accuracy_score, \n",
    "    balanced_accuracy_score, \n",
    "    f1_score, \n",
    "    roc_auc_score, \n",
    "    confusion_matrix,\n",
    ")\n",
    "\n",
    "from sklearn.metrics import classification_report\n",
    "\n",
    "# Models import\n",
    "from sklearn.linear_model import LogisticRegression\n",
    "from sklearn.discriminant_analysis import LinearDiscriminantAnalysis, QuadraticDiscriminantAnalysis\n",
    "from sklearn.neighbors import KNeighborsClassifier\n",
    "from sklearn.ensemble import GradientBoostingClassifier, RandomForestClassifier, AdaBoostClassifier, VotingClassifier\n",
    "\n",
    "from sklearn.svm import SVC\n",
    "from sklearn.tree import DecisionTreeClassifier\n",
    "# Visualisations import\n",
    "import seaborn as sns\n",
    "import matplotlib.pyplot as plt"
   ]
  },
  {
   "cell_type": "markdown",
   "metadata": {},
   "source": [
    "# Global variables"
   ]
  },
  {
   "cell_type": "code",
   "execution_count": 2,
   "metadata": {},
   "outputs": [],
   "source": [
    "#This is for data, which is most important split.\n",
    "RANDOM_STATE = 42 "
   ]
  },
  {
   "cell_type": "markdown",
   "metadata": {},
   "source": [
    "# Task 1.1 Exploration"
   ]
  },
  {
   "cell_type": "markdown",
   "metadata": {},
   "source": [
    "# Task 1.2 Workflow related functions"
   ]
  },
  {
   "cell_type": "markdown",
   "metadata": {},
   "source": [
    "# Task 1.2 Hyperparameter tuning workflow related functions"
   ]
  },
  {
   "cell_type": "markdown",
   "metadata": {},
   "source": [
    "### Workflow related functions for each model hyperparameter tuning"
   ]
  },
  {
   "cell_type": "markdown",
   "metadata": {},
   "source": [
    "#### Visualization related function"
   ]
  },
  {
   "cell_type": "code",
   "execution_count": 3,
   "metadata": {},
   "outputs": [],
   "source": [
    "def plot_confusion_matrix(confusion, labels, title=\"Confusion Matrix\"):\n",
    "    \"\"\"\n",
    "    Plots a heatmap for the given confusion matrix with annotations.\n",
    "    \"\"\"\n",
    "    plt.figure(figsize=(6, 4))\n",
    "    sns.heatmap(confusion, annot=True, fmt=\"d\", cmap=\"Blues\", xticklabels=labels, yticklabels=labels)\n",
    "    plt.xlabel(\"Predicted Labels\")\n",
    "    plt.ylabel(\"True Labels\")\n",
    "    plt.title(title)\n",
    "    plt.show()"
   ]
  },
  {
   "cell_type": "markdown",
   "metadata": {},
   "source": [
    "#### Load data"
   ]
  },
  {
   "cell_type": "code",
   "execution_count": 4,
   "metadata": {},
   "outputs": [],
   "source": [
    "def load_data(file_path):\n",
    "    \"\"\"\n",
    "    Load a dataset from a specified file path. Supports gzip-compressed files.\n",
    "    \"\"\"\n",
    "    return pd.read_csv(file_path, compression='gzip')"
   ]
  },
  {
   "cell_type": "markdown",
   "metadata": {},
   "source": [
    "#### Split data"
   ]
  },
  {
   "cell_type": "code",
   "execution_count": 5,
   "metadata": {},
   "outputs": [],
   "source": [
    "def train_split(data, label_col, random_state=42, test_size=0.2):\n",
    "    \"\"\"\n",
    "    Splits the dataset into training and testing sets without preprocessing.\n",
    "    \"\"\"\n",
    "    X = data.drop(columns=[label_col]).values\n",
    "    y = LabelEncoder().fit_transform(data[label_col].values)\n",
    "    return train_test_split(X, y, test_size=test_size, random_state=random_state)\n"
   ]
  },
  {
   "cell_type": "markdown",
   "metadata": {},
   "source": [
    "#### Create Pipeline"
   ]
  },
  {
   "cell_type": "code",
   "execution_count": 6,
   "metadata": {},
   "outputs": [],
   "source": [
    "def create_pipeline(model, model_name, standardize=False, with_pca=False, n_pca_components=10):\n",
    "    \"\"\"\n",
    "    Creates a pipeline for a given model with optional standardization and PCA.\n",
    "    \"\"\"\n",
    "    steps = []\n",
    "    if standardize:\n",
    "        steps.append(('scaler', StandardScaler()))\n",
    "    if with_pca:\n",
    "        steps.append(('pca', PCA(n_components=n_pca_components)))\n",
    "\n",
    "    if \"random_state\" in model.get_params():\n",
    "        model.set_params(random_state=42)\n",
    "\n",
    "    steps.append((model_name, model))\n",
    "    pipeline = Pipeline(steps)\n",
    "    print(f\"Pipeline Steps ({model_name}):\", pipeline.steps)  # Debug pipeline steps\n",
    "    return pipeline"
   ]
  },
  {
   "cell_type": "markdown",
   "metadata": {},
   "source": [
    "#### Hyperparameter tuning for a single model"
   ]
  },
  {
   "cell_type": "code",
   "execution_count": 7,
   "metadata": {},
   "outputs": [],
   "source": [
    "def grid_search_tuning(model_name, config, X_train, y_train, scoring=\"f1\", cv_folds=5, n_jobs=-1):\n",
    "    \"\"\"\n",
    "    Perform hyperparameter tuning for a model pipeline using GridSearchCV.\n",
    "    \"\"\"\n",
    "    pipeline = create_pipeline(\n",
    "        model=config[\"model\"],\n",
    "        model_name=model_name,\n",
    "        standardize=config[\"preprocess\"].get(\"standardize\", False),\n",
    "        with_pca=config[\"preprocess\"].get(\"pca\", False),\n",
    "        n_pca_components=config[\"preprocess\"].get(\"pca_components\", 10)\n",
    "    )\n",
    "    pipeline.set_params(**config[\"fixed_params\"])\n",
    "    \n",
    "    # Grid Search Configuration\n",
    "    grid_search = GridSearchCV(\n",
    "        pipeline,\n",
    "        param_grid=config[\"grid_search_params\"],\n",
    "        scoring=scoring,\n",
    "        # Cross-validation with fixed random state\n",
    "        cv=StratifiedKFold(n_splits=cv_folds, shuffle=True, random_state=42),\n",
    "        n_jobs=n_jobs,\n",
    "        verbose=0\n",
    "    )\n",
    "    start_time = time.time()\n",
    "    grid_search.fit(X_train, y_train)\n",
    "    elapsed_time = (time.time() - start_time) / 60\n",
    "    \n",
    "    # Save Best Parameters and Results\n",
    "    best_params = grid_search.best_params_\n",
    "    best_params[\"MODEL_NAME\"] = model_name\n",
    "    best_params[\"TIME_ELAPSED_MIN\"] = elapsed_time\n",
    "\n",
    "    # Convert non-serializable objects in best_params to strings\n",
    "    for key, value in best_params.items():\n",
    "        if not isinstance(value, (str, int, float, list, dict, bool, type(None))):\n",
    "            best_params[key] = str(value)\n",
    "\n",
    "    full_results = pd.DataFrame(grid_search.cv_results_)\n",
    "    full_results.to_csv(f\"Tuning_params/{model_name}_all_results.csv\", index=False)\n",
    "\n",
    "    with open(f\"Tuning_params/{model_name}_best_params.json\", \"w\") as f:\n",
    "        json.dump(best_params, f, indent=4)\n",
    "\n",
    "    print(f\"Model {model_name} tuned in {elapsed_time:.2f} minutes\")\n",
    "    return grid_search, best_params\n"
   ]
  },
  {
   "cell_type": "markdown",
   "metadata": {},
   "source": [
    "#### Evaluate optimised Model"
   ]
  },
  {
   "cell_type": "code",
   "execution_count": 8,
   "metadata": {},
   "outputs": [],
   "source": [
    "def evaluate_optimized_model(model_name, model_config, results_dir, X_train, X_test, y_train, y_test, source_model_name=None):\n",
    "    \"\"\"\n",
    "    Evaluates the performance of a single optimized model and saves results.\n",
    "    \"\"\"\n",
    "    try:\n",
    "        # Use source model name for loading best parameters if provided\n",
    "        param_source_name = source_model_name or model_name\n",
    "\n",
    "        # Load Best Parameters\n",
    "        with open(f\"{results_dir}/{param_source_name}_best_params.json\", \"r\") as f:\n",
    "            best_params = json.load(f)\n",
    "        \n",
    "        # Ensure random_state is consistent across all steps\n",
    "        if \"random_state\" in model_config[\"model\"].get_params():\n",
    "            model_config[\"model\"].set_params(random_state=42)\n",
    "        print(\"Loaded Best Parameters:\", best_params)\n",
    "        \n",
    "        pipeline_params = {k: v for k, v in best_params.items() if \"__\" in k}\n",
    "        print(\"Pipeline Parameters to Set:\", pipeline_params)\n",
    "\n",
    "        # Create Pipeline\n",
    "        pipeline = create_pipeline(\n",
    "            model=model_config[\"model\"],\n",
    "            model_name=model_name,\n",
    "            standardize=model_config[\"preprocess\"].get(\"standardize\", False),\n",
    "            with_pca=model_config[\"preprocess\"].get(\"pca\", False),\n",
    "            n_pca_components=model_config[\"preprocess\"].get(\"pca_components\", 10)\n",
    "        )\n",
    "        print(\"Pipeline Before Setting Params:\", pipeline.steps)\n",
    "        pipeline.set_params(**pipeline_params)\n",
    "        print(\"Pipeline After Setting Params:\", pipeline.steps)\n",
    "\n",
    "        # Fit Pipeline to Training Data\n",
    "        pipeline.fit(X_train, y_train)\n",
    "\n",
    "        # Evaluate on Test Data\n",
    "        y_pred = pipeline.predict(X_test)\n",
    "        accuracy = accuracy_score(y_test, y_pred)\n",
    "        balanced_accuracy = balanced_accuracy_score(y_test, y_pred)\n",
    "        f1 = f1_score(y_test, y_pred)\n",
    "        auc_score = roc_auc_score(y_test, pipeline.predict_proba(X_test)[:, 1]) if hasattr(pipeline, \"predict_proba\") else None\n",
    "        confusion = confusion_matrix(y_test, y_pred)\n",
    "\n",
    "        results = {\n",
    "            \"Model\": model_name,\n",
    "            \"Accuracy\": accuracy,\n",
    "            \"Balanced Accuracy\": balanced_accuracy,\n",
    "            \"AUC\": auc_score,\n",
    "            \"F1 Score\": f1,\n",
    "            \"Confusion Matrix\": confusion.tolist()\n",
    "        }\n",
    "\n",
    "        # Save Results\n",
    "        pd.DataFrame([results]).to_csv(f\"{results_dir}/{model_name}_evaluation_summary.csv\", index=False)\n",
    "        print(f\"Evaluation results for {model_name} saved in file {results_dir}/{model_name}_evaluation_summary.csv\")\n",
    "        return results\n",
    "    except Exception as e:\n",
    "        print(f\"Error evaluating model {model_name}: {e}\")\n",
    "        return {\"Model\": model_name, \"Error\": str(e)}\n"
   ]
  },
  {
   "cell_type": "markdown",
   "metadata": {},
   "source": [
    "## Tuning and Evaluation stage (All models)"
   ]
  },
  {
   "cell_type": "code",
   "execution_count": 9,
   "metadata": {},
   "outputs": [],
   "source": [
    "# Load Data\n",
    "file_path = \"Datasets/Data 1.csv.gz\"\n",
    "data = load_data(file_path)\n",
    "\n",
    "# Split Data\n",
    "X_train, X_test, y_train, y_test = train_split(data, label_col=\"label\", random_state=42, test_size=0.2)"
   ]
  },
  {
   "cell_type": "markdown",
   "metadata": {},
   "source": [
    "### Tuning LDA no PCA"
   ]
  },
  {
   "cell_type": "code",
   "execution_count": 10,
   "metadata": {},
   "outputs": [
    {
     "name": "stdout",
     "output_type": "stream",
     "text": [
      "Pipeline Steps (lda): [('scaler', StandardScaler()), ('lda', LinearDiscriminantAnalysis())]\n"
     ]
    },
    {
     "name": "stderr",
     "output_type": "stream",
     "text": [
      "/opt/anaconda3/envs/ST443/lib/python3.12/site-packages/joblib/externals/loky/process_executor.py:752: UserWarning: A worker stopped while some jobs were given to the executor. This can be caused by a too short worker timeout or by a memory leak.\n",
      "  warnings.warn(\n"
     ]
    },
    {
     "name": "stdout",
     "output_type": "stream",
     "text": [
      "Model lda tuned in 5.62 minutes\n"
     ]
    }
   ],
   "source": [
    "# LDA Configuration\n",
    "lda_config = {\n",
    "    \"model\": LinearDiscriminantAnalysis(),\n",
    "    \"preprocess\": {\"standardize\": True, \"pca\": False},\n",
    "    \"fixed_params\": {\"lda__tol\": 0.0001},\n",
    "    \"grid_search_params\": [\n",
    "        {\"lda__solver\": [\"svd\"]},\n",
    "        {\"lda__solver\": [\"lsqr\"], \"lda__shrinkage\": [0.0, 0.1, 0.2, 0.3, 0.4, 0.5, 0.6, 0.7, 0.8, 0.9, 1.0, \"auto\"]}\n",
    "    ]\n",
    "}\n",
    "\n",
    "# Tune LDA and get the best params\n",
    "lda_results, lda_best_params = grid_search_tuning(\"lda\", lda_config, X_train, y_train)"
   ]
  },
  {
   "cell_type": "code",
   "execution_count": 11,
   "metadata": {},
   "outputs": [
    {
     "name": "stdout",
     "output_type": "stream",
     "text": [
      "Best Parameters for LDA without PCA:\n",
      "{'lda__shrinkage': 0.8, 'lda__solver': 'lsqr', 'MODEL_NAME': 'lda', 'TIME_ELAPSED_MIN': 5.621273163954417}\n"
     ]
    }
   ],
   "source": [
    "# Print the best parameters used after tuning\n",
    "print(\"Best Parameters for LDA without PCA:\")\n",
    "print(lda_best_params)"
   ]
  },
  {
   "cell_type": "code",
   "execution_count": 12,
   "metadata": {},
   "outputs": [
    {
     "name": "stdout",
     "output_type": "stream",
     "text": [
      "Evaluation Results for LDA without PCA:\n",
      "Loaded Best Parameters: {'lda__shrinkage': 0.8, 'lda__solver': 'lsqr', 'MODEL_NAME': 'lda', 'TIME_ELAPSED_MIN': 5.621273163954417}\n",
      "Pipeline Parameters to Set: {'lda__shrinkage': 0.8, 'lda__solver': 'lsqr'}\n",
      "Pipeline Steps (lda): [('scaler', StandardScaler()), ('lda', LinearDiscriminantAnalysis())]\n",
      "Pipeline Before Setting Params: [('scaler', StandardScaler()), ('lda', LinearDiscriminantAnalysis())]\n",
      "Pipeline After Setting Params: [('scaler', StandardScaler()), ('lda', LinearDiscriminantAnalysis(shrinkage=0.8, solver='lsqr'))]\n",
      "Evaluation results for lda saved in file Tuning_params/lda_evaluation_summary.csv\n"
     ]
    },
    {
     "data": {
      "text/plain": [
       "{'Model': 'lda',\n",
       " 'Accuracy': 0.965296803652968,\n",
       " 'Balanced Accuracy': 0.95587000064612,\n",
       " 'AUC': 0.9932336872635381,\n",
       " 'F1 Score': 0.9511568123393316,\n",
       " 'Confusion Matrix': [[687, 6], [32, 370]]}"
      ]
     },
     "execution_count": 12,
     "metadata": {},
     "output_type": "execute_result"
    }
   ],
   "source": [
    "# Evaluate LDA with best params\n",
    "print(\"Evaluation Results for LDA without PCA:\")\n",
    "lda_eval = evaluate_optimized_model(\"lda\", lda_config, \"Tuning_params\", X_train, X_test, y_train, y_test)\n",
    "lda_eval"
   ]
  },
  {
   "cell_type": "code",
   "execution_count": 13,
   "metadata": {},
   "outputs": [
    {
     "data": {
      "image/png": "[encoded data removed]",
      "text/plain": [
       "<Figure size 600x400 with 2 Axes>"
      ]
     },
     "metadata": {},
     "output_type": "display_data"
    }
   ],
   "source": [
    "# Print confusion matrix\n",
    "if \"Confusion Matrix\" in lda_eval:\n",
    "    labels = sorted(np.unique(y_test))  # Ensure proper labels are used\n",
    "    plot_confusion_matrix(lda_eval[\"Confusion Matrix\"], labels, title=\"LDA Confusion Matrix\")"
   ]
  },
  {
   "cell_type": "markdown",
   "metadata": {},
   "source": [
    "### Using the best tuning params for LDA with PCA 10 components"
   ]
  },
  {
   "cell_type": "code",
   "execution_count": 17,
   "metadata": {},
   "outputs": [
    {
     "name": "stdout",
     "output_type": "stream",
     "text": [
      "lda_best_params: {'lda__shrinkage': 0.8, 'lda__solver': 'lsqr', 'MODEL_NAME': 'lda', 'TIME_ELAPSED_MIN': 5.621273163954417}\n",
      "Transformed Params for lda_pca: {'lda_pca__shrinkage': 0.8, 'lda_pca__solver': 'lsqr', 'lda_pca__tol': 0.0001}\n",
      "LDA PCA Config: {'model': LinearDiscriminantAnalysis(), 'preprocess': {'standardize': True, 'pca': True}, 'fixed_params': {'lda_pca__shrinkage': 0.8, 'lda_pca__solver': 'lsqr', 'lda_pca__tol': 0.0001}}\n",
      "Loaded Best Parameters: {'lda__shrinkage': 0.8, 'lda__solver': 'lsqr', 'MODEL_NAME': 'lda', 'TIME_ELAPSED_MIN': 5.621273163954417}\n",
      "Pipeline Parameters to Set: {'lda__shrinkage': 0.8, 'lda__solver': 'lsqr'}\n",
      "Pipeline Steps (lda_pca): [('scaler', StandardScaler()), ('pca', PCA(n_components=10)), ('lda_pca', LinearDiscriminantAnalysis())]\n",
      "Pipeline Before Setting Params: [('scaler', StandardScaler()), ('pca', PCA(n_components=10)), ('lda_pca', LinearDiscriminantAnalysis())]\n",
      "Error evaluating model lda_pca: Invalid parameter 'lda' for estimator Pipeline(steps=[('scaler', StandardScaler()), ('pca', PCA(n_components=10)),\n",
      "                ('lda_pca', LinearDiscriminantAnalysis())]). Valid parameters are: ['memory', 'steps', 'verbose'].\n",
      "Evaluation Results for LDA with PCA:\n",
      "{'Model': 'lda_pca', 'Error': \"Invalid parameter 'lda' for estimator Pipeline(steps=[('scaler', StandardScaler()), ('pca', PCA(n_components=10)),\\n                ('lda_pca', LinearDiscriminantAnalysis())]). Valid parameters are: ['memory', 'steps', 'verbose'].\"}\n"
     ]
    }
   ],
   "source": [
    "# Print the best parameters\n",
    "print(\"lda_best_params:\", lda_best_params)\n",
    "\n",
    "# Step 1: Transform parameters for the lda_pca step\n",
    "lda_pca_fixed_params = {\n",
    "    f\"lda_pca__{key.split('__')[1]}\": value for key, value in lda_best_params.items() if \"__\" in key\n",
    "}\n",
    "lda_pca_fixed_params[\"lda_pca__tol\"] = 0.0001  # Add additional fixed parameters manually\n",
    "print(\"Transformed Params for lda_pca:\", lda_pca_fixed_params)\n",
    "\n",
    "# Step 2: LDA Configuration for PCA\n",
    "lda_pca_config = {\n",
    "    \"model\": LinearDiscriminantAnalysis(),\n",
    "    \"preprocess\": {\"standardize\": True, \"pca\": True},  # Enable PCA\n",
    "    \"fixed_params\": lda_pca_fixed_params\n",
    "}\n",
    "print(\"LDA PCA Config:\", lda_pca_config)\n",
    "\n",
    "# Step 3: Evaluate LDA With PCA\n",
    "lda_pca_eval = evaluate_optimized_model(\n",
    "    model_name=\"lda_pca\",\n",
    "    model_config=lda_pca_config,\n",
    "    results_dir=\"Tuning_params\",\n",
    "    X_train=X_train,\n",
    "    X_test=X_test,\n",
    "    y_train=y_train,\n",
    "    y_test=y_test,\n",
    "    source_model_name=\"lda\"  # Reuse parameters from LDA without PCA\n",
    ")\n",
    "\n",
    "# Step 4: Print Evaluation Results for LDA With PCA\n",
    "print(\"Evaluation Results for LDA with PCA:\")\n",
    "print(lda_pca_eval)\n",
    "\n",
    "# Step 5: Plot Confusion Matrix for LDA With PCA\n",
    "if \"Confusion Matrix\" in lda_pca_eval:\n",
    "    labels = sorted(np.unique(y_test))\n",
    "    plot_confusion_matrix(lda_pca_eval[\"Confusion Matrix\"], labels, title=\"LDA Confusion Matrix (With PCA, 10 Components)\")\n"
   ]
  },
  {
   "cell_type": "code",
   "execution_count": 15,
   "metadata": {},
   "outputs": [],
   "source": [
    "if \"Confusion Matrix\" in lda_pca_eval:\n",
    "    labels = sorted(np.unique(y_test))\n",
    "    plot_confusion_matrix(lda_pca_eval[\"Confusion Matrix\"], labels, title=\"LDA (PCA 10 Components) Confusion Matrix\")"
   ]
  },
  {
   "cell_type": "markdown",
   "metadata": {},
   "source": [
    "### Tuning logistic No PCA"
   ]
  },
  {
   "cell_type": "code",
   "execution_count": null,
   "metadata": {},
   "outputs": [],
   "source": [
    "# Load Data\n",
    "file_path = \"Datasets/Data 1.csv.gz\"\n",
    "data = load_data(file_path)\n",
    "\n",
    "# Split Data\n",
    "X_train, X_test, y_train, y_test = train_split(data, label_col=\"label\", random_state=42, test_size=0.2)\n",
    "\n",
    "# Logistic Regression Configuration\n",
    "logit_config = {\n",
    "    \"model\": LogisticRegression(random_state=42),\n",
    "    \"preprocess\": {\"standardize\": True, \"pca\": False},\n",
    "    \"fixed_params\": {\n",
    "        \"logit__max_iter\": 100,\n",
    "        \"logit__solver\": \"saga\",\n",
    "        \"logit__n_jobs\": -1,\n",
    "        \"logit__penalty\": \"elasticnet\"\n",
    "    },\n",
    "    \"grid_search_params\": {\n",
    "        \"logit__C\": [0.001, 0.101, 0.201, 0.301, 0.401, 0.501, 0.601, 0.701, 0.801, 0.901, 1.001, 5, 10],\n",
    "        \"logit__l1_ratio\": [0.0, 0.1, 0.2, 0.3, 0.4, 0.5, 0.6, 0.7, 0.8, 0.9, 1.0],\n",
    "        \"logit__class_weight\": [None, \"balanced\"]\n",
    "    }\n",
    "}\n",
    "\n",
    "# Tune Logistic Regression\n",
    "logit_results, logit_best_params = grid_search_tuning(\"logit\", logit_config, X_train, y_train)\n",
    "\n"
   ]
  },
  {
   "cell_type": "code",
   "execution_count": null,
   "metadata": {},
   "outputs": [],
   "source": [
    "# Evaluate Logistic Regression\n",
    "logit_eval = evaluate_optimized_model(\"logit\", logit_config, \"Tuning_params\", X_train, X_test, y_train, y_test)\n",
    "logit_eval"
   ]
  },
  {
   "cell_type": "markdown",
   "metadata": {},
   "source": [
    "## Model hyperparameter tuning and evaluation workflow"
   ]
  },
  {
   "cell_type": "code",
   "execution_count": 2,
   "metadata": {},
   "outputs": [],
   "source": [
    "def plot_confusion_matrix(confusion, labels, title=\"Confusion Matrix\"):\n",
    "    \"\"\"\n",
    "    Plots a heatmap for the given confusion matrix with annotations.\n",
    "    \"\"\"\n",
    "    plt.figure(figsize=(6, 4))\n",
    "    sns.heatmap(confusion, annot=True, fmt=\"d\", cmap=\"Blues\", xticklabels=labels, yticklabels=labels)\n",
    "    plt.xlabel(\"Predicted Labels\")\n",
    "    plt.ylabel(\"True Labels\")\n",
    "    plt.title(title)\n",
    "    plt.show()\n"
   ]
  },
  {
   "cell_type": "code",
   "execution_count": 3,
   "metadata": {},
   "outputs": [],
   "source": [
    "def load_data(file_path):\n",
    "    \"\"\"\n",
    "    Load a dataset from a specified file path. Supports gzip-compressed files.\n",
    "    \"\"\"\n",
    "    return pd.read_csv(file_path, compression='gzip')\n"
   ]
  },
  {
   "cell_type": "code",
   "execution_count": 4,
   "metadata": {},
   "outputs": [],
   "source": [
    "def train_split(data, label_col, random_state=42, test_size=0.2):\n",
    "    \"\"\"\n",
    "    Splits the dataset into training and testing sets without preprocessing.\n",
    "    \"\"\"\n",
    "    X = data.drop(columns=[label_col]).values\n",
    "    y = LabelEncoder().fit_transform(data[label_col].values)\n",
    "    return train_test_split(X, y, test_size=test_size, random_state=random_state)"
   ]
  },
  {
   "cell_type": "code",
   "execution_count": null,
   "metadata": {},
   "outputs": [],
   "source": [
    "class ModelPipeline:\n",
    "    def __init__(self, model, name, standardize=False, with_pca=False, n_pca_components=10, random_state=42):\n",
    "        \"\"\"\n",
    "        Constructor to initialize the pipeline for a given model.\n",
    "        - model: The machine learning model (e.g., LDA, RandomForest).\n",
    "        - name: A unique name for the model.\n",
    "        - standardize: Whether to apply StandardScaler.\n",
    "        - with_pca: Whether to include PCA.\n",
    "        - n_pca_components: Number of PCA components if PCA is used.\n",
    "        \"\"\"\n",
    "        self.model = model\n",
    "        self.name = name\n",
    "        self.standardize = standardize\n",
    "        self.with_pca = with_pca\n",
    "        self.n_pca_components = n_pca_components\n",
    "        self.pipeline = None\n",
    "        self.best_params = {}\n",
    "        self.results = {}  # Store evaluation results for each model\n",
    "\n",
    "        # Ensure model uses random_state if supported (fixing randomness)\n",
    "        if \"random_state\" in self.model.get_params():\n",
    "            self.model.set_params(random_state=self.random_state)\n",
    "\n",
    "    def create_pipeline(self):\n",
    "        \"\"\"\n",
    "        Assembles the pipeline steps dynamically based on the configuration:\n",
    "        - Adds StandardScaler if standardize=True.\n",
    "        - Adds PCA if with_pca=True.\n",
    "        - Adds the given model at the end.\n",
    "        \"\"\"\n",
    "        steps = []\n",
    "        if self.standardize:\n",
    "            steps.append(('scaler', StandardScaler()))\n",
    "        if self.with_pca:\n",
    "            steps.append(('pca', PCA(n_components=self.n_pca_components)))\n",
    "        steps.append((self.name, self.model))\n",
    "        self.pipeline = Pipeline(steps)\n",
    "        # print(f\"Pipeline Created: {self.pipeline}\")\n",
    "        return self.pipeline\n",
    "\n",
    "    def set_params(self, params):\n",
    "        \"\"\"\n",
    "        Updates the parameters of the pipeline.\n",
    "        - params: Dictionary of parameters to set.\n",
    "        \"\"\"\n",
    "        if not self.pipeline:\n",
    "            raise ValueError(\"Pipeline not created. Call create_pipeline() first.\")\n",
    "        self.pipeline.set_params(**params)\n",
    "\n",
    "    def tune(self, X_train, y_train, param_grid, scoring=\"f1\", cv_folds=5, n_jobs=-1):\n",
    "        \"\"\"\n",
    "        Performs hyperparameter tuning using GridSearchCV.\n",
    "        - X_train, y_train: Training data and labels.\n",
    "        - param_grid: Grid of hyperparameters to tune.\n",
    "        - scoring: base the scoring on the f1 metric\n",
    "        - cv_folds: Number of cross-validation folds.\n",
    "        - n_jobs: Number of parallel jobs for GridSearchCV (-1 means maximum possible)\n",
    "        \"\"\"\n",
    "        # Esnsure pipeline is created\n",
    "        if not self.pipeline:\n",
    "            self.create_pipeline() \n",
    "\n",
    "        # Setup GridSearchCV with the pipeline\n",
    "        grid_search = GridSearchCV(\n",
    "            self.pipeline,\n",
    "            param_grid=param_grid,\n",
    "            scoring=scoring,\n",
    "            cv=StratifiedKFold(n_splits=cv_folds, shuffle=True, random_state=self.random_state),\n",
    "            n_jobs=n_jobs,\n",
    "            verbose=0\n",
    "        )\n",
    "\n",
    "\n",
    "        start_time = time.time() # Track tuning time\n",
    "        grid_search.fit(X_train, y_train) # Fit the grid search\n",
    "        elapsed_time = (time.time() - start_time) / 60 # Time in minutes\n",
    "\n",
    "        # Store the best parameters and save results\n",
    "        self.best_params = grid_search.best_params_\n",
    "        self.best_params[\"MODEL_NAME\"] = self.name\n",
    "        self.best_params[\"TIME_ELAPSED_MIN\"] = elapsed_time\n",
    "\n",
    "        # Save all results and best parameters\n",
    "        full_results = pd.DataFrame(grid_search.cv_results_)\n",
    "        full_results.to_csv(f\"Tuning_params/{self.name}_all_results.csv\", index=False)\n",
    "        with open(f\"Tuning_params/{self.name}_best_params.json\", \"w\") as f:\n",
    "            json.dump(self.best_params, f, indent=4)\n",
    "\n",
    "        print(f\"Model {self.name} tuned in {elapsed_time:.2f} minutes\") #log running time\n",
    "\n",
    "    def evaluate(self, X_train, X_test, y_train, y_test):\n",
    "        \"\"\"\n",
    "        Evaluates the performance of the pipeline on test data.\n",
    "        - X_train, X_test: Training and testing feature matrices.\n",
    "        - y_train, y_test: Training and testing labels.\n",
    "        \"\"\"\n",
    "        if not self.pipeline:\n",
    "            self.create_pipeline()\n",
    "\n",
    "        if self.best_params:\n",
    "            # Filter only valid pipeline parameters\n",
    "            valid_params = {\n",
    "                key: value for key, value in self.best_params.items()\n",
    "                if key in self.pipeline.get_params()\n",
    "            }\n",
    "            print(f\"Valid Parameters for Pipeline: {valid_params}\")\n",
    "            self.pipeline.set_params(**valid_params) # Set valid parameters\n",
    "\n",
    "        # Train the pipeline on training data\n",
    "        self.pipeline.fit(X_train, y_train)\n",
    "        # Predict on test data\n",
    "        y_pred = self.pipeline.predict(X_test)\n",
    "\n",
    "        # Compute evaluation metrics\n",
    "        metrics = {\n",
    "            \"Model\": self.name,\n",
    "            \"Accuracy\": accuracy_score(y_test, y_pred),\n",
    "            \"Balanced Accuracy\": balanced_accuracy_score(y_test, y_pred),\n",
    "            \"F1 Score\": f1_score(y_test, y_pred),\n",
    "        }\n",
    "\n",
    "        # Calculate AUC if available\n",
    "        if hasattr(self.pipeline, \"predict_proba\"):\n",
    "            metrics[\"AUC\"] = roc_auc_score(y_test, self.pipeline.predict_proba(X_test)[:, 1])\n",
    "        else:\n",
    "            metrics[\"AUC\"] = None\n",
    "\n",
    "        # Add confusion matrix (fir plot)\n",
    "        metrics[\"Confusion Matrix\"] = confusion_matrix(y_test, y_pred).tolist()\n",
    "        print(f\"Evaluation Results: {metrics}\")\n",
    "\n",
    "        # # Save evaluation metrics\n",
    "        self.results = metrics\n",
    "        pd.DataFrame([metrics]).to_csv(f\"Tuning_params/{self.name}_evaluation_summary.csv\", index=False)\n",
    "\n"
   ]
  },
  {
   "cell_type": "code",
   "execution_count": null,
   "metadata": {},
   "outputs": [],
   "source": [
    "def aggregate_results(models):\n",
    "    \"\"\"\n",
    "    Aggregates results from multiple ModelPipeline instances into a single DataFrame (To merge all models' results)\n",
    "    \"\"\"\n",
    "    all_results = [model.results for model in models]\n",
    "    results_df = pd.DataFrame(all_results)\n",
    "    results_df.to_csv(\"Model_Comparison_Results.csv\", index=False)\n",
    "    print(\"Aggregated results saved to Model_Comparison_Results.csv\")\n",
    "    return results_df\n"
   ]
  },
  {
   "cell_type": "markdown",
   "metadata": {},
   "source": [
    "### Loading data"
   ]
  },
  {
   "cell_type": "code",
   "execution_count": 7,
   "metadata": {},
   "outputs": [],
   "source": [
    "# Load Data\n",
    "file_path = \"Datasets/Data 1.csv.gz\"\n",
    "data = load_data(file_path)\n",
    "\n",
    "# Train-Test Split\n",
    "X_train, X_test, y_train, y_test = train_split(data, label_col=\"label\", random_state=42, test_size=0.2)\n"
   ]
  },
  {
   "cell_type": "markdown",
   "metadata": {},
   "source": [
    "### LDA Without PCA"
   ]
  },
  {
   "cell_type": "code",
   "execution_count": null,
   "metadata": {},
   "outputs": [],
   "source": [
    "lda_model = ModelPipeline(\n",
    "    model=LinearDiscriminantAnalysis(),\n",
    "    name=\"lda\",\n",
    "    standardize=True,\n",
    "    with_pca=False\n",
    ")\n",
    "lda_model.create_pipeline()\n",
    "lda_grid = [\n",
    "    {\"lda__solver\": [\"svd\"]},\n",
    "    {\"lda__solver\": [\"lsqr\"], \"lda__shrinkage\": [0.0, 0.1, 0.5, 1.0, \"auto\"]}\n",
    "]\n",
    "lda_model.tune(X_train, y_train, lda_grid)\n",
    "print(f\"Best parameters found for {lda_model.name}\")\n",
    "print(lda_model.best_params)\n",
    "lda_model.evaluate(X_train, X_test, y_train, y_test)\n",
    "print(f\"results of evaluating {lda_model.name}\")\n",
    "print(lda_model.results)"
   ]
  },
  {
   "cell_type": "code",
   "execution_count": null,
   "metadata": {},
   "outputs": [],
   "source": [
    "confusion = lda_model.results[\"Confusion Matrix\"]\n",
    "labels = sorted(np.unique(y_test))\n",
    "plot_confusion_matrix(confusion, labels, title=f\"Confusion Matrix for {lda_model.name}\")"
   ]
  },
  {
   "cell_type": "markdown",
   "metadata": {},
   "source": [
    "### LDA with PCA (10 components)"
   ]
  },
  {
   "cell_type": "code",
   "execution_count": null,
   "metadata": {},
   "outputs": [],
   "source": [
    "lda_pca_model = ModelPipeline(\n",
    "    model=LinearDiscriminantAnalysis(),\n",
    "    name=\"lda_pca\",\n",
    "    standardize=True,\n",
    "    with_pca=True,\n",
    "    n_pca_components=10\n",
    ")\n",
    "lda_pca_model.create_pipeline()\n",
    "lda_pca_model.set_params({\n",
    "    f\"lda_pca__{key.split('__')[1]}\": value for key, value in lda_model.best_params.items() if \"__\" in key\n",
    "})\n",
    "lda_pca_model.evaluate(X_train, X_test, y_train, y_test)\n"
   ]
  },
  {
   "cell_type": "code",
   "execution_count": null,
   "metadata": {},
   "outputs": [],
   "source": [
    "confusion = lda_pca_model.results[\"Confusion Matrix\"]\n",
    "labels = sorted(np.unique(y_test))\n",
    "plot_confusion_matrix(confusion, labels, title=f\"Confusion Matrix for {lda_pca_model.name}\")"
   ]
  },
  {
   "cell_type": "code",
   "execution_count": null,
   "metadata": {},
   "outputs": [],
   "source": [
    "# Aggregate and Save Results\n",
    "results_df = aggregate_results(models)\n",
    "\n",
    "results_df"
   ]
  },
  {
   "cell_type": "code",
   "execution_count": null,
   "metadata": {},
   "outputs": [],
   "source": []
  },
  {
   "cell_type": "markdown",
   "metadata": {},
   "source": [
    "### Tuning Logistic with PCA 10 components"
   ]
  },
  {
   "cell_type": "code",
   "execution_count": null,
   "metadata": {},
   "outputs": [],
   "source": []
  },
  {
   "cell_type": "markdown",
   "metadata": {},
   "source": [
    "### Tuning QDA"
   ]
  },
  {
   "cell_type": "code",
   "execution_count": null,
   "metadata": {},
   "outputs": [],
   "source": [
    "# Load Data\n",
    "file_path = \"Datasets/Data 1.csv.gz\"\n",
    "data = load_data(file_path)\n",
    "\n",
    "# Split Data\n",
    "X_train, X_test, y_train, y_test = train_split(data, label_col=\"label\", random_state=42, test_size=0.2)\n",
    "\n",
    "# QDA Configuration\n",
    "qda_config = {\n",
    "    \"model\": QuadraticDiscriminantAnalysis(),\n",
    "    \"preprocess\": {\"standardize\": True, \"pca\": False},\n",
    "    \"fixed_params\": {\"qda__priors\": None},\n",
    "    \"grid_search_params\": {\n",
    "        \"qda__reg_param\": [0.0, 0.1, 0.2, 0.3, 0.4, 0.5, 0.6, 0.7, 0.8, 0.9, 1.0]\n",
    "    }\n",
    "}\n",
    "\n",
    "# Tune QDA\n",
    "qda_results = grid_search_tuning(\"qda\", qda_config, X_train, y_train)\n",
    "\n",
    "# Evaluate QDA\n",
    "qda_eval = evaluate_optimized_model(\"qda\", qda_config, \"Tuning_params\", X_train, X_test, y_train, y_test)\n",
    "\n",
    "print(qda_eval)\n"
   ]
  },
  {
   "cell_type": "markdown",
   "metadata": {},
   "source": [
    "### Tuning K-nn"
   ]
  },
  {
   "cell_type": "code",
   "execution_count": null,
   "metadata": {},
   "outputs": [],
   "source": [
    "# Load Data\n",
    "file_path = \"Datasets/Data 1.csv.gz\"\n",
    "data = load_data(file_path)\n",
    "\n",
    "# Split Data\n",
    "X_train, X_test, y_train, y_test = train_split(data, label_col=\"label\", random_state=42, test_size=0.2)\n",
    "\n",
    "# KNN Configuration\n",
    "knn_config = {\n",
    "    \"model\": KNeighborsClassifier(),\n",
    "    \"preprocess\": {\"standardize\": True, \"pca\": False},\n",
    "    \"fixed_params\": {\n",
    "        \"knn__metric\": \"minkowski\",\n",
    "        \"knn__n_jobs\": 1\n",
    "    },\n",
    "    \"grid_search_params\": {\n",
    "        \"knn__p\": [0.8, 1.0, 1.2, 1.4, 1.7, 2.0, 2.2, 3.0, 10.0],\n",
    "        \"knn__weights\": [\"uniform\", \"distance\"],\n",
    "        \"knn__n_neighbors\": [1, 3, 5, 9, 11, 15, 20, 30]\n",
    "    }\n",
    "}\n",
    "\n",
    "# Tune KNN\n",
    "knn_results = grid_search_tuning(\"knn\", knn_config, X_train, y_train)\n",
    "\n",
    "# Evaluate KNN\n",
    "knn_eval = evaluate_optimized_model(\"knn\", knn_config, \"Tuning_params\", X_train, X_test, y_train, y_test)\n",
    "\n",
    "print(knn_eval)\n"
   ]
  },
  {
   "cell_type": "markdown",
   "metadata": {},
   "source": [
    "### Tuning SVM"
   ]
  },
  {
   "cell_type": "code",
   "execution_count": null,
   "metadata": {},
   "outputs": [],
   "source": [
    "# Load Data\n",
    "file_path = \"Datasets/Data 1.csv.gz\"\n",
    "data = load_data(file_path)\n",
    "\n",
    "# Split Data\n",
    "X_train, X_test, y_train, y_test = train_split(data, label_col=\"label\", random_state=42, test_size=0.2)\n",
    "\n",
    "# SVM Configuration\n",
    "svm_config = {\n",
    "    \"model\": SVC(probability=True, random_state=42),\n",
    "    \"preprocess\": {\"standardize\": True, \"pca\": False},\n",
    "    \"fixed_params\": {\"svm__degree\": 3},\n",
    "    \"grid_search_params\": {\n",
    "        \"svm__C\": [0.001, 0.101, 0.201, 0.301, 0.401, 0.501, 0.601, 0.701, 0.801, 0.901, 1.001, 5, 10],\n",
    "        \"svm__kernel\": [\"linear\", \"poly\", \"rbf\", \"sigmoid\"],\n",
    "        \"svm__gamma\": [\"scale\", \"auto\"],\n",
    "        \"svm__class_weight\": [None, \"balanced\"]\n",
    "    }\n",
    "}\n",
    "\n",
    "# Tune SVM\n",
    "svm_results = grid_search_tuning(\"svm\", svm_config, X_train, y_train)\n",
    "\n",
    "# Evaluate SVM\n",
    "svm_eval = evaluate_optimized_model(\"svm\", svm_config, \"Tuning_params\", X_train, X_test, y_train, y_test)\n",
    "\n",
    "print(svm_eval)\n"
   ]
  },
  {
   "cell_type": "markdown",
   "metadata": {},
   "source": [
    "### Tuning Random forest"
   ]
  },
  {
   "cell_type": "code",
   "execution_count": null,
   "metadata": {},
   "outputs": [],
   "source": [
    "# Load Data\n",
    "file_path = \"Datasets/Data 1.csv.gz\"\n",
    "data = load_data(file_path)\n",
    "\n",
    "# Split Data\n",
    "X_train, X_test, y_train, y_test = train_split(data, label_col=\"label\", random_state=42, test_size=0.2)\n",
    "\n",
    "# Random Forest Configuration\n",
    "rf_config = {\n",
    "    \"model\": RandomForestClassifier(random_state=42),\n",
    "    \"preprocess\": {\"standardize\": False, \"pca\": False},\n",
    "    \"fixed_params\": {\"rf__bootstrap\": True},\n",
    "    \"grid_search_params\": {\n",
    "        \"rf__n_estimators\": [100, 200, 300, 400],\n",
    "        \"rf__criterion\": [\"gini\", \"entropy\"],\n",
    "        \"rf__max_features\": [\"sqrt\", \"log2\"]\n",
    "    }\n",
    "}\n",
    "\n",
    "# Tune Random Forest\n",
    "rf_results = grid_search_tuning(\"rf\", rf_config, X_train, y_train)\n",
    "\n",
    "# Evaluate Random Forest\n",
    "rf_eval = evaluate_optimized_model(\"rf\", rf_config, \"Tuning_params\", X_train, X_test, y_train, y_test)\n",
    "\n",
    "print(rf_eval)\n"
   ]
  },
  {
   "cell_type": "markdown",
   "metadata": {},
   "source": [
    "### Tuning Gradient Boosting"
   ]
  },
  {
   "cell_type": "code",
   "execution_count": null,
   "metadata": {},
   "outputs": [],
   "source": [
    "# Load Data\n",
    "file_path = \"Datasets/Data 1.csv.gz\"\n",
    "data = load_data(file_path)\n",
    "\n",
    "# Split Data\n",
    "X_train, X_test, y_train, y_test = train_split(data, label_col=\"label\", random_state=42, test_size=0.2)\n",
    "\n",
    "# Gradient Boosting Configuration\n",
    "gbdt_config = {\n",
    "    \"model\": GradientBoostingClassifier(random_state=42),\n",
    "    \"preprocess\": {\"standardize\": False, \"pca\": False},\n",
    "    \"fixed_params\": {\n",
    "        \"gbdt__loss\": \"log_loss\",\n",
    "        \"gbdt__n_iter_no_change\": 15\n",
    "    },\n",
    "    \"grid_search_params\": {\n",
    "        \"gbdt__n_estimators\": [100, 200, 300, 400, 500],\n",
    "        \"gbdt__max_depth\": [1, 3, 5, 7, 9],\n",
    "        \"gbdt__learning_rate\": [0.1, 0.05, 0.2, 0.3],\n",
    "        \"gbdt__max_features\": [\"sqrt\", 100, 130]\n",
    "    }\n",
    "}\n",
    "\n",
    "# Tune Gradient Boosting\n",
    "gbdt_results = grid_search_tuning(\"gbdt\", gbdt_config, X_train, y_train)\n",
    "\n",
    "# Evaluate Gradient Boosting\n",
    "gbdt_eval = evaluate_optimized_model(\"gbdt\", gbdt_config, \"Tuning_params\", X_train, X_test, y_train, y_test)\n",
    "\n",
    "print(gbdt_eval)\n"
   ]
  },
  {
   "cell_type": "markdown",
   "metadata": {},
   "source": [
    "#### Combine evaluation results for all models without PCA (after completion)"
   ]
  },
  {
   "cell_type": "code",
   "execution_count": null,
   "metadata": {},
   "outputs": [],
   "source": [
    "# Combine all evaluation results into a single DataFrame\n",
    "final_results = pd.DataFrame([\n",
    "    lda_eval, \n",
    "    logit_eval, \n",
    "    qda_eval, \n",
    "    knn_eval, \n",
    "    svm_eval, \n",
    "    rf_eval, \n",
    "    gbdt_eval\n",
    "])\n",
    "\n",
    "# Save the combined results to a CSV\n",
    "final_results.to_csv(\"no_pca_results.csv\", index=False)\n",
    "\n",
    "# Display the final results\n",
    "final_results"
   ]
  },
  {
   "cell_type": "markdown",
   "metadata": {},
   "source": [
    "## Tuning stage with PCA"
   ]
  },
  {
   "cell_type": "markdown",
   "metadata": {},
   "source": [
    "### LDA with PCA"
   ]
  },
  {
   "cell_type": "code",
   "execution_count": null,
   "metadata": {},
   "outputs": [],
   "source": [
    "# Load Data\n",
    "file_path = \"Datasets/Data 1.csv.gz\"\n",
    "data = load_data(file_path)\n",
    "\n",
    "# Split Data\n",
    "X_train, X_test, y_train, y_test = train_split(data, label_col=\"label\", random_state=42, test_size=0.2)\n",
    "\n",
    "# LDA Configuration with PCA\n",
    "lda_pca_config = {\n",
    "    \"model\": LinearDiscriminantAnalysis(),\n",
    "    \"preprocess\": {\"standardize\": True, \"pca\": True},  # Enable PCA\n",
    "    \"fixed_params\": {\"lda_pca__tol\": 0.0001},\n",
    "    \"grid_search_params\": [\n",
    "        {\"lda_pca__solver\": [\"svd\"], \"pca__n_components\": [5, 10, 20]},\n",
    "        {\"lda_pca__solver\": [\"lsqr\"], \"lda_pca__shrinkage\": [0.0, 0.1, 0.5, \"auto\"], \"pca__n_components\": [5, 10, 20]}\n",
    "    ]\n",
    "}\n",
    "\n",
    "# Tune LDA with PCA\n",
    "lda_pca_results = grid_search_tuning(\"lda_pca\", lda_pca_config, X_train, y_train)\n",
    "\n",
    "# Evaluate LDA with PCA\n",
    "lda_pca_eval = evaluate_optimized_model(\"lda_pca\", lda_pca_config, \"Tuning_params\", X_train, X_test, y_train, y_test)\n",
    "\n",
    "lda_pca_eval\n"
   ]
  },
  {
   "cell_type": "markdown",
   "metadata": {},
   "source": [
    "### Logistic Regression with PCA"
   ]
  },
  {
   "cell_type": "code",
   "execution_count": null,
   "metadata": {},
   "outputs": [],
   "source": [
    "# Load Data\n",
    "file_path = \"Datasets/Data 1.csv.gz\"\n",
    "data = load_data(file_path)\n",
    "\n",
    "# Split Data\n",
    "X_train, X_test, y_train, y_test = train_split(data, label_col=\"label\", random_state=42, test_size=0.2)\n",
    "\n",
    "# Logistic Regression Configuration with PCA\n",
    "logit_pca_config = {\n",
    "    \"model\": LogisticRegression(random_state=42),\n",
    "    \"preprocess\": {\"standardize\": True, \"pca\": True},\n",
    "    \"fixed_params\": {\n",
    "        \"logit_pca__max_iter\": 100,\n",
    "        \"logit_pca__solver\": \"saga\",\n",
    "        \"logit_pca__n_jobs\": -1,\n",
    "        \"logit_pca__penalty\": \"elasticnet\"\n",
    "    },\n",
    "    \"grid_search_params\": {\n",
    "        \"logit_pca__C\": [0.01, 0.1, 1, 10],\n",
    "        \"logit_pca__l1_ratio\": [0.1, 0.5, 0.9],\n",
    "        \"logit_pca__class_weight\": [None, \"balanced\"],\n",
    "        \"pca__n_components\": [5, 10, 20]\n",
    "    }\n",
    "}\n",
    "\n",
    "# Tune Logistic Regression with PCA\n",
    "logit_pca_results = grid_search_tuning(\"logit_pca\", logit_pca_config, X_train, y_train)\n",
    "\n",
    "# Evaluate Logistic Regression with PCA\n",
    "logit_pca_eval = evaluate_optimized_model(\"logit_pca\", logit_pca_config, \"Tuning_params\", X_train, X_test, y_train, y_test)\n",
    "\n",
    "logit_pca_eval\n"
   ]
  },
  {
   "cell_type": "markdown",
   "metadata": {},
   "source": [
    "### QDA with PCA"
   ]
  },
  {
   "cell_type": "code",
   "execution_count": null,
   "metadata": {},
   "outputs": [],
   "source": [
    "# Load Data\n",
    "file_path = \"Datasets/Data 1.csv.gz\"\n",
    "data = load_data(file_path)\n",
    "\n",
    "# Split Data\n",
    "X_train, X_test, y_train, y_test = train_split(data, label_col=\"label\", random_state=42, test_size=0.2)\n",
    "\n",
    "# QDA Configuration with PCA\n",
    "qda_pca_config = {\n",
    "    \"model\": QuadraticDiscriminantAnalysis(),\n",
    "    \"preprocess\": {\"standardize\": True, \"pca\": True},\n",
    "    \"fixed_params\": {\"qda_pca__priors\": None},\n",
    "    \"grid_search_params\": {\n",
    "        \"qda_pca__reg_param\": [0.0, 0.1, 0.5, 1.0],\n",
    "        \"pca__n_components\": [5, 10, 20]\n",
    "    }\n",
    "}\n",
    "\n",
    "\n",
    "# Tune QDA with PCA\n",
    "qda_pca_results = grid_search_tuning(\"qda_pca\", qda_pca_config, X_train, y_train)\n",
    "\n",
    "# Evaluate QDA with PCA\n",
    "qda_pca_eval = evaluate_optimized_model(\"qda_pca\", qda_pca_config, \"Tuning_params\", X_train, X_test, y_train, y_test)\n",
    "\n",
    "qda_pca_eval\n"
   ]
  },
  {
   "cell_type": "markdown",
   "metadata": {},
   "source": [
    "### K-nn with PCA"
   ]
  },
  {
   "cell_type": "code",
   "execution_count": null,
   "metadata": {},
   "outputs": [],
   "source": [
    "# Load Data\n",
    "file_path = \"Datasets/Data 1.csv.gz\"\n",
    "data = load_data(file_path)\n",
    "\n",
    "# Split Data\n",
    "X_train, X_test, y_train, y_test = train_split(data, label_col=\"label\", random_state=42, test_size=0.2)\n",
    "\n",
    "# KNN Configuration with PCA\n",
    "knn_pca_config = {\n",
    "    \"model\": KNeighborsClassifier(),\n",
    "    \"preprocess\": {\"standardize\": True, \"pca\": True},\n",
    "    \"fixed_params\": {\n",
    "        \"knn_pca__metric\": \"minkowski\",\n",
    "        \"knn_pca__n_jobs\": 1\n",
    "    },\n",
    "    \"grid_search_params\": {\n",
    "        \"knn_pca__p\": [1, 2],  # Manhattan and Euclidean distances\n",
    "        \"knn_pca__weights\": [\"uniform\", \"distance\"],\n",
    "        \"knn_pca__n_neighbors\": [3, 5, 10],  # Common choices for neighbors\n",
    "        \"pca__n_components\": [5, 10, 20]  # Reduced dimensions\n",
    "    }\n",
    "}\n",
    "\n",
    "# Tune KNN with PCA\n",
    "knn_pca_results = grid_search_tuning(\"knn_pca\", knn_pca_config, X_train, y_train)\n",
    "\n",
    "# Evaluate KNN with PCA\n",
    "knn_pca_eval = evaluate_optimized_model(\"knn_pca\", knn_pca_config, \"Tuning_params\", X_train, X_test, y_train, y_test)\n",
    "\n",
    "knn_pca_eval\n"
   ]
  },
  {
   "cell_type": "markdown",
   "metadata": {},
   "source": [
    "### SVM with PCA"
   ]
  },
  {
   "cell_type": "code",
   "execution_count": null,
   "metadata": {},
   "outputs": [],
   "source": [
    "# Load Data\n",
    "file_path = \"Datasets/Data 1.csv.gz\"\n",
    "data = load_data(file_path)\n",
    "\n",
    "# Split Data\n",
    "X_train, X_test, y_train, y_test = train_split(data, label_col=\"label\", random_state=42, test_size=0.2)\n",
    "\n",
    "# SVM Configuration with PCA\n",
    "svm_pca_config = {\n",
    "    \"model\": SVC(probability=True, random_state=42),\n",
    "    \"preprocess\": {\"standardize\": True, \"pca\": True},\n",
    "    \"fixed_params\": {\"svm_pca__degree\": 3},  # Use 'svm_pca__' to match pipeline step name\n",
    "    \"grid_search_params\": {\n",
    "        \"svm_pca__C\": [0.1, 1, 10],\n",
    "        \"svm_pca__kernel\": [\"linear\", \"rbf\"],\n",
    "        \"svm_pca__gamma\": [\"scale\", \"auto\"],\n",
    "        \"svm_pca__class_weight\": [None, \"balanced\"],\n",
    "        \"pca__n_components\": [5, 10, 20]\n",
    "    }\n",
    "}\n",
    "\n",
    "# Tune SVM with PCA\n",
    "svm_pca_results = grid_search_tuning(\"svm_pca\", svm_pca_config, X_train, y_train)\n",
    "\n",
    "# Evaluate SVM with PCA\n",
    "svm_pca_eval = evaluate_optimized_model(\"svm_pca\", svm_pca_config, \"Tuning_params\", X_train, X_test, y_train, y_test)\n",
    "\n",
    "svm_pca_eval\n"
   ]
  },
  {
   "cell_type": "markdown",
   "metadata": {},
   "source": [
    "### RF with PCA"
   ]
  },
  {
   "cell_type": "code",
   "execution_count": null,
   "metadata": {},
   "outputs": [],
   "source": [
    "# Load Data\n",
    "file_path = \"Datasets/Data 1.csv.gz\"\n",
    "data = load_data(file_path)\n",
    "\n",
    "# Split Data\n",
    "X_train, X_test, y_train, y_test = train_split(data, label_col=\"label\", random_state=42, test_size=0.2)\n",
    "\n",
    "# Random Forest Configuration with PCA\n",
    "rf_pca_config = {\n",
    "    \"model\": RandomForestClassifier(random_state=42),\n",
    "    \"preprocess\": {\"standardize\": False, \"pca\": True},\n",
    "    \"fixed_params\": {\"rf_pca__bootstrap\": True},  # Correct parameter prefix\n",
    "    \"grid_search_params\": {\n",
    "        \"rf_pca__n_estimators\": [100, 200, 300],\n",
    "        \"rf_pca__criterion\": [\"gini\", \"entropy\"],\n",
    "        \"rf_pca__max_features\": [\"sqrt\", \"log2\"],\n",
    "        \"pca__n_components\": [5, 10, 20]\n",
    "    }\n",
    "}\n",
    "\n",
    "# Tune Random Forest with PCA\n",
    "rf_pca_results = grid_search_tuning(\"rf_pca\", rf_pca_config, X_train, y_train)\n",
    "\n",
    "# Evaluate Random Forest with PCA\n",
    "rf_pca_eval = evaluate_optimized_model(\"rf_pca\", rf_pca_config, \"Tuning_params\", X_train, X_test, y_train, y_test)\n",
    "\n",
    "print(rf_pca_eval)\n"
   ]
  },
  {
   "cell_type": "markdown",
   "metadata": {},
   "source": [
    "### GBDT with PCA"
   ]
  },
  {
   "cell_type": "code",
   "execution_count": null,
   "metadata": {},
   "outputs": [],
   "source": [
    "# Load Data\n",
    "file_path = \"Datasets/Data 1.csv.gz\"\n",
    "data = load_data(file_path)\n",
    "\n",
    "# Split Data\n",
    "X_train, X_test, y_train, y_test = train_split(data, label_col=\"label\", random_state=42, test_size=0.2)\n",
    "\n",
    "# Gradient Boosting Configuration with PCA\n",
    "gbdt_pca_config = {\n",
    "    \"model\": GradientBoostingClassifier(random_state=42),\n",
    "    \"preprocess\": {\"standardize\": False, \"pca\": True},\n",
    "    \"fixed_params\": {\"gbdt_pca__loss\": \"log_loss\", \"gbdt_pca__n_iter_no_change\": 15},  # Correct parameter prefix\n",
    "    \"grid_search_params\": {\n",
    "        \"gbdt_pca__n_estimators\": [100, 200],\n",
    "        \"gbdt_pca__max_depth\": [3, 5],\n",
    "        \"gbdt_pca__learning_rate\": [0.05, 0.1, 0.2],\n",
    "        \"gbdt_pca__max_features\": [\"sqrt\", 100],\n",
    "        \"pca__n_components\": [5, 10, 20]\n",
    "    }\n",
    "}\n",
    "\n",
    "# Tune Gradient Boosting with PCA\n",
    "gbdt_pca_results = grid_search_tuning(\"gbdt_pca\", gbdt_pca_config, X_train, y_train)\n",
    "\n",
    "# Evaluate Gradient Boosting with PCA\n",
    "gbdt_pca_eval = evaluate_optimized_model(\"gbdt_pca\", gbdt_pca_config, \"Tuning_params\", X_train, X_test, y_train, y_test)\n",
    "\n",
    "print(gbdt_pca_eval)\n"
   ]
  },
  {
   "cell_type": "code",
   "execution_count": null,
   "metadata": {},
   "outputs": [],
   "source": [
    "# Combine PCA evaluation results into a single DataFrame\n",
    "pca_results = pd.DataFrame([\n",
    "    lda_pca_eval, \n",
    "    logit_pca_eval, \n",
    "    qda_pca_eval, \n",
    "    knn_pca_eval, \n",
    "    svm_pca_eval, \n",
    "    rf_pca_eval, \n",
    "    gbdt_pca_eval\n",
    "])\n",
    "\n",
    "# Save the PCA-only results to a CSV\n",
    "pca_results.to_csv(\"pca_results.csv\", index=False)\n",
    "\n",
    "# Display the PCA-only results\n",
    "print(pca_results)"
   ]
  },
  {
   "cell_type": "markdown",
   "metadata": {},
   "source": [
    "## Combining full results"
   ]
  },
  {
   "cell_type": "code",
   "execution_count": null,
   "metadata": {},
   "outputs": [],
   "source": [
    "# Combine all evaluation results (standard + PCA) into a single DataFrame\n",
    "final_results = pd.DataFrame([\n",
    "    lda_eval, \n",
    "    lda_pca_eval, \n",
    "    logit_eval, \n",
    "    logit_pca_eval, \n",
    "    qda_eval, \n",
    "    qda_pca_eval, \n",
    "    knn_eval, \n",
    "    knn_pca_eval, \n",
    "    svm_eval, \n",
    "    svm_pca_eval, \n",
    "    rf_eval, \n",
    "    rf_pca_eval, \n",
    "    gbdt_eval, \n",
    "    gbdt_pca_eval\n",
    "])\n",
    "\n",
    "# Save the full results to a CSV\n",
    "final_results.to_csv(\"final_results.csv\", index=False)\n",
    "\n",
    "# Display the full results\n",
    "final_results"
   ]
  },
  {
   "cell_type": "markdown",
   "metadata": {},
   "source": [
    "# Task 1.3"
   ]
  },
  {
   "cell_type": "markdown",
   "metadata": {},
   "source": [
    "### Adaboost Without PCA"
   ]
  },
  {
   "cell_type": "code",
   "execution_count": null,
   "metadata": {},
   "outputs": [],
   "source": [
    "# AdaBoost Configuration without PCA\n",
    "ada_boost_no_pca_config = {\n",
    "    \"model\": AdaBoostClassifier(random_state=42),\n",
    "    \"preprocess\": {\"standardize\": True, \"pca\": False},\n",
    "    \"fixed_params\": {\n",
    "        \"ada_boost_no_pca__algorithm\": \"SAMME\"  # Correct prefix for pipeline step\n",
    "    },\n",
    "    \"grid_search_params\": {\n",
    "        \"ada_boost_no_pca__estimator\": [DecisionTreeClassifier(max_depth=2), LogisticRegression()],  # Use 'estimator' instead of 'base_estimator'\n",
    "        \"ada_boost_no_pca__n_estimators\": [50, 100, 200],\n",
    "        \"ada_boost_no_pca__learning_rate\": [0.05, 0.1, 0.5, 1]\n",
    "    }\n",
    "}\n",
    "\n",
    "# Tune AdaBoost without PCA\n",
    "ada_boost_no_pca_results, ada_boost_no_pca_best_params = grid_search_tuning(\"ada_boost_no_pca\", ada_boost_no_pca_config, X_train, y_train)\n",
    "\n",
    "# Evaluate AdaBoost without PCA\n",
    "ada_boost_no_pca_eval = evaluate_optimized_model(\"ada_boost_no_pca\", ada_boost_no_pca_config, \"Tuning_params\", X_train, X_test, y_train, y_test)\n",
    "\n",
    "# Print Evaluation Results\n",
    "print(ada_boost_no_pca_eval)\n"
   ]
  },
  {
   "cell_type": "code",
   "execution_count": null,
   "metadata": {},
   "outputs": [],
   "source": []
  },
  {
   "cell_type": "markdown",
   "metadata": {},
   "source": [
    "### Adaboost With PCA"
   ]
  },
  {
   "cell_type": "code",
   "execution_count": null,
   "metadata": {},
   "outputs": [],
   "source": [
    "# Load Data\n",
    "file_path = \"Datasets/Data 1.csv.gz\"\n",
    "data = load_data(file_path)\n",
    "\n",
    "# Split Data\n",
    "X_train, X_test, y_train, y_test = train_split(data, label_col=\"label\", random_state=42, test_size=0.2)\n",
    "\n",
    "# AdaBoost Configuration with PCA\n",
    "ada_boost_pca_config = {\n",
    "    \"model\": AdaBoostClassifier(random_state=42),\n",
    "    \"preprocess\": {\"standardize\": True, \"pca\": True},  # Enable PCA\n",
    "    \"fixed_params\": {\n",
    "        \"model__algorithm\": \"SAMME\"  # Correct prefix for pipeline step\n",
    "    },\n",
    "    \"grid_search_params\": {\n",
    "        \"model__estimator\": [DecisionTreeClassifier(max_depth=2, random_state=42), LogisticRegression(random_state=42)],\n",
    "        \"model__n_estimators\": [50, 100, 200],\n",
    "        \"model__learning_rate\": [0.05, 0.1, 0.5, 1],\n",
    "        \"pca__n_components\": [5, 10, 20]  # PCA dimensionality reduction\n",
    "    }\n",
    "}\n",
    "\n",
    "# Tune AdaBoost with PCA\n",
    "ada_boost_pca_results, ada_boost_pca_best_params = grid_search_tuning(\"ada_boost_pca\", ada_boost_pca_config, X_train, y_train)\n",
    "\n",
    "# Evaluate AdaBoost with PCA\n",
    "ada_boost_pca_eval = evaluate_optimized_model(\"ada_boost_pca\", ada_boost_pca_config, \"Tuning_params\", X_train, X_test, y_train, y_test)\n",
    "\n",
    "# Print Evaluation Results\n",
    "print(ada_boost_pca_eval)\n"
   ]
  },
  {
   "cell_type": "code",
   "execution_count": null,
   "metadata": {},
   "outputs": [],
   "source": []
  },
  {
   "cell_type": "markdown",
   "metadata": {},
   "source": [
    "### Voting classifier without PCA"
   ]
  },
  {
   "cell_type": "code",
   "execution_count": null,
   "metadata": {},
   "outputs": [],
   "source": [
    "# Load Data\n",
    "file_path = \"Datasets/Data 1.csv.gz\"\n",
    "data = load_data(file_path)\n",
    "\n",
    "# Split Data\n",
    "X_train, X_test, y_train, y_test = train_split(data, label_col=\"label\", random_state=42, test_size=0.2)\n",
    "\n",
    "# Voting Classifier without PCA\n",
    "voting_no_pca_config = {\n",
    "    \"model\": VotingClassifier(\n",
    "        estimators=[\n",
    "            ('lr', LogisticRegression(random_state=42)),\n",
    "            ('svm', SVC(probability=True, random_state=42)),\n",
    "            ('rf', RandomForestClassifier(random_state=42))\n",
    "        ]\n",
    "    ),\n",
    "    \"preprocess\": {\"standardize\": True, \"pca\": False},  # PCA disabled\n",
    "    \"fixed_params\": {},  # No fixed parameters specific to voting\n",
    "    \"grid_search_params\": {\n",
    "        \"voting_no_pca__voting\": [\"hard\", \"soft\"]  # Prefix with the pipeline step name\n",
    "    }\n",
    "}\n",
    "\n",
    "# Tune Voting Classifier without PCA\n",
    "voting_no_pca_results = grid_search_tuning(\"voting_no_pca\", voting_no_pca_config, X_train, y_train)\n",
    "\n",
    "# Evaluate Voting Classifier without PCA\n",
    "voting_no_pca_eval = evaluate_optimized_model(\"voting_no_pca\", voting_no_pca_config, \"Tuning_params\", X_train, X_test, y_train, y_test)\n",
    "\n",
    "# Print Results\n",
    "print(voting_no_pca_eval)\n"
   ]
  },
  {
   "cell_type": "code",
   "execution_count": null,
   "metadata": {},
   "outputs": [],
   "source": []
  },
  {
   "cell_type": "markdown",
   "metadata": {},
   "source": [
    "### Voting classifier with PCA"
   ]
  },
  {
   "cell_type": "code",
   "execution_count": null,
   "metadata": {},
   "outputs": [],
   "source": [
    "# Load Data\n",
    "file_path = \"Datasets/Data 1.csv.gz\"\n",
    "data = load_data(file_path)\n",
    "\n",
    "# Split Data\n",
    "X_train, X_test, y_train, y_test = train_split(data, label_col=\"label\", random_state=42, test_size=0.2)\n",
    "\n",
    "# Voting Classifier with PCA\n",
    "voting_pca_config = {\n",
    "    \"model\": VotingClassifier(\n",
    "        estimators=[\n",
    "            ('lr', LogisticRegression(random_state=42)),\n",
    "            ('svm', SVC(probability=True, random_state=42)),\n",
    "            ('rf', RandomForestClassifier(random_state=42))\n",
    "        ]\n",
    "    ),\n",
    "    \"preprocess\": {\"standardize\": True, \"pca\": True},  # PCA enabled\n",
    "    \"fixed_params\": {},  # No fixed parameters specific to voting\n",
    "    \"grid_search_params\": {\n",
    "        \"voting_pca__voting\": [\"hard\", \"soft\"],  # Prefix to match pipeline step\n",
    "        \"pca__n_components\": [5, 10, 20]  # Parameter for PCA\n",
    "    }\n",
    "}\n",
    "\n",
    "# Tune Voting Classifier with PCA\n",
    "voting_pca_results = grid_search_tuning(\"voting_pca\", voting_pca_config, X_train, y_train)\n",
    "\n",
    "# Evaluate Voting Classifier with PCA\n",
    "voting_pca_eval = evaluate_optimized_model(\"voting_pca\", voting_pca_config, \"Tuning_params\", X_train, X_test, y_train, y_test)\n",
    "\n",
    "# Print Evaluation Results\n",
    "print(voting_pca_eval)"
   ]
  },
  {
   "cell_type": "code",
   "execution_count": null,
   "metadata": {},
   "outputs": [],
   "source": []
  },
  {
   "cell_type": "markdown",
   "metadata": {},
   "source": [
    "### Bagging classifiers without PCA"
   ]
  },
  {
   "cell_type": "code",
   "execution_count": null,
   "metadata": {},
   "outputs": [],
   "source": [
    "# Load Data\n",
    "file_path = \"Datasets/Data 1.csv.gz\"\n",
    "data = load_data(file_path)\n",
    "\n",
    "# Split Data\n",
    "X_train, X_test, y_train, y_test = train_split(data, label_col=\"label\", random_state=42, test_size=0.2)\n",
    "\n",
    "# Bagging Classifier Configuration\n",
    "bagging_config = {\n",
    "    \"model\": BaggingClassifier(random_state=42),\n",
    "    \"preprocess\": {\"standardize\": True, \"pca\": False},  # PCA disabled\n",
    "    \"fixed_params\": {\"bagging__n_jobs\": -1},  # Use all processors\n",
    "    \"grid_search_params\": {\n",
    "        \"bagging__n_estimators\": [10, 50, 100],\n",
    "        \"bagging__estimator\": [DecisionTreeClassifier(max_depth=5), LogisticRegression()]\n",
    "    }\n",
    "}\n",
    "\n",
    "# Tune Bagging Classifier\n",
    "bagging_results = grid_search_tuning(\"bagging\", bagging_config, X_train, y_train)\n",
    "\n",
    "# Evaluate Bagging Classifier\n",
    "bagging_eval = evaluate_optimized_model(\"bagging\", bagging_config, \"Tuning_params\", X_train, X_test, y_train, y_test)\n",
    "\n",
    "# Print Evaluation Results\n",
    "print(bagging_eval)\n"
   ]
  },
  {
   "cell_type": "code",
   "execution_count": null,
   "metadata": {},
   "outputs": [],
   "source": []
  },
  {
   "cell_type": "markdown",
   "metadata": {},
   "source": [
    "### ElasticNet Logistic Regression with PCA"
   ]
  },
  {
   "cell_type": "code",
   "execution_count": null,
   "metadata": {},
   "outputs": [],
   "source": [
    "# Load Data\n",
    "file_path = \"Datasets/Data 1.csv.gz\"\n",
    "data = load_data(file_path)\n",
    "\n",
    "# Split Data\n",
    "X_train, X_test, y_train, y_test = train_split(data, label_col=\"label\", random_state=42, test_size=0.2)\n",
    "\n",
    "# ElasticNet Logistic Regression with PCA Configuration\n",
    "elasticnet_pca_config = {\n",
    "    \"model\": LogisticRegression(penalty=\"elasticnet\", solver=\"saga\", random_state=42),\n",
    "    \"preprocess\": {\"standardize\": True, \"pca\": True},  # PCA enabled\n",
    "    \"fixed_params\": {\"elasticnet_logit_pca__max_iter\": 500},  # Correct prefix for pipeline step\n",
    "    \"grid_search_params\": {\n",
    "        \"elasticnet_logit_pca__C\": [0.01, 0.1, 1, 10],  # Correct prefix for pipeline step\n",
    "        \"elasticnet_logit_pca__l1_ratio\": [0.1, 0.5, 0.9],  # Correct prefix for pipeline step\n",
    "        \"pca__n_components\": [10, 25, 50]\n",
    "    }\n",
    "}\n",
    "\n",
    "# Tune ElasticNet Logistic Regression with PCA\n",
    "elasticnet_pca_results = grid_search_tuning(\"elasticnet_logit_pca\", elasticnet_pca_config, X_train, y_train)\n",
    "\n",
    "# Evaluate ElasticNet Logistic Regression with PCA\n",
    "elasticnet_pca_eval = evaluate_optimized_model(\"elasticnet_logit_pca\", elasticnet_pca_config, \"Tuning_params\", X_train, X_test, y_train, y_test)\n",
    "\n",
    "\n",
    "elasticnet_pca_eval"
   ]
  },
  {
   "cell_type": "code",
   "execution_count": null,
   "metadata": {},
   "outputs": [],
   "source": [
    "# Print Evaluation Results\n"
   ]
  },
  {
   "cell_type": "markdown",
   "metadata": {},
   "source": [
    "### StackingClassifier with PCA"
   ]
  },
  {
   "cell_type": "code",
   "execution_count": null,
   "metadata": {},
   "outputs": [],
   "source": [
    "# Load Data\n",
    "file_path = \"Datasets/Data 1.csv.gz\"\n",
    "data = load_data(file_path)\n",
    "\n",
    "# Split Data\n",
    "X_train, X_test, y_train, y_test = train_split(data, label_col=\"label\", random_state=42, test_size=0.2)\n",
    "\n",
    "# Iterate over final estimators for stacking\n",
    "final_estimators = [\n",
    "    LogisticRegression(max_iter=500, random_state=42),\n",
    "    GradientBoostingClassifier(random_state=42)\n",
    "]\n",
    "\n",
    "stacking_results = []\n",
    "\n",
    "for estimator in final_estimators:\n",
    "    # Stacking Classifier with PCA Configuration\n",
    "    stacking_pca_config = {\n",
    "        \"model\": StackingClassifier(\n",
    "            estimators=[\n",
    "                ('lr', LogisticRegression(random_state=42)),\n",
    "                ('rf', RandomForestClassifier(random_state=42)),\n",
    "                ('svc', SVC(probability=True, random_state=42))\n",
    "            ],\n",
    "            final_estimator=estimator\n",
    "        ),\n",
    "        \"preprocess\": {\"standardize\": True, \"pca\": True},  # PCA enabled\n",
    "        \"fixed_params\": {},  # No fixed parameters specific to stacking\n",
    "        \"grid_search_params\": {\n",
    "            \"pca__n_components\": [10, 25, 50]\n",
    "        }\n",
    "    }\n",
    "\n",
    "    # Tune Stacking Classifier with PCA\n",
    "    stacking_pca_results = grid_search_tuning(f\"stacking_pca_{estimator.__class__.__name__.lower()}\", stacking_pca_config, X_train, y_train)\n",
    "\n",
    "    # Evaluate Stacking Classifier with PCA\n",
    "    stacking_pca_eval = evaluate_optimized_model(f\"stacking_pca_{estimator.__class__.__name__.lower()}\", stacking_pca_config, \"Tuning_params\", X_train, X_test, y_train, y_test)\n",
    "\n",
    "    # Append results\n",
    "    stacking_results.append(stacking_pca_eval)\n",
    "\n",
    "# Print Evaluation Results\n",
    "for result in stacking_results:\n",
    "    print(result)"
   ]
  },
  {
   "cell_type": "code",
   "execution_count": null,
   "metadata": {},
   "outputs": [],
   "source": []
  },
  {
   "cell_type": "markdown",
   "metadata": {},
   "source": [
    "## Picking the best model"
   ]
  },
  {
   "cell_type": "code",
   "execution_count": null,
   "metadata": {},
   "outputs": [],
   "source": [
    "# Combine all evaluation results into a single DataFrame\n",
    "final_results = pd.DataFrame([\n",
    "    ada_boost_no_pca_eval,\n",
    "    ada_boost_pca_eval,     \n",
    "    voting_no_pca_eval,      \n",
    "    voting_pca_eval,         \n",
    "    bagging_eval,             \n",
    "    elasticnet_pca_eval,     \n",
    "    stacking_pca_eval         \n",
    "])\n",
    "\n",
    "# Save the combined results to a CSV\n",
    "final_results.to_csv(\"final_results_all_models.csv\", index=False)\n",
    "\n",
    "# Display the final results\n",
    "final_results"
   ]
  },
  {
   "cell_type": "markdown",
   "metadata": {},
   "source": [
    "## mypredict()"
   ]
  },
  {
   "cell_type": "code",
   "execution_count": null,
   "metadata": {},
   "outputs": [],
   "source": []
  }
 ],
 "metadata": {
  "kernelspec": {
   "display_name": "ST443",
   "language": "python",
   "name": "python3"
  },
  "language_info": {
   "codemirror_mode": {
    "name": "ipython",
    "version": 3
   },
   "file_extension": ".py",
   "mimetype": "text/x-python",
   "name": "python",
   "nbconvert_exporter": "python",
   "pygments_lexer": "ipython3",
   "version": "3.12.7"
  }
 },
 "nbformat": 4,
 "nbformat_minor": 2
}
